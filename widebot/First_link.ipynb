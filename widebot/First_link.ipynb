{
 "cells": [
  {
   "cell_type": "code",
   "execution_count": 1,
   "metadata": {},
   "outputs": [],
   "source": [
    "import re \n",
    "import requests\n",
    "import time\n",
    "from bs4 import BeautifulSoup"
   ]
  },
  {
   "cell_type": "code",
   "execution_count": 2,
   "metadata": {},
   "outputs": [],
   "source": [
    "def find_first_link():\n",
    "    url = \"https://en.wikipedia.org/wiki/Wikipedia:Getting_to_Philosophy\"\n",
    "    html = requests.get(url)\n",
    "    soup = BeautifulSoup(html.content,'html.parser')\n",
    "    url_new= list()\n",
    "    link =soup.find(\"div\", id= \"mw-content-text\").find('a',{'href':re.compile('^(/wiki/)((?!:).)*$')})['href']\n",
    "    url_new.append(link)\n",
    "#     print(url_new[-1])\n",
    "    count=1\n",
    "    print('List of all pages visited')\n",
    "    while (True):\n",
    "        time.sleep(0.5)\n",
    "        print('http://en.wikipedia.org'+url_new[-1])\n",
    "        html_new = requests.get('http://en.wikipedia.org{}'.format(url_new[-1]))\n",
    "        soup_new = BeautifulSoup(html_new.content,'html.parser')\n",
    "        link_new =soup_new.find(\"div\", id= \"mw-content-text\").find(\"div\", {'class': \"mw-parser-output\"}).find('p',{'class':''}).find('a',{'href':re.compile('^(/wiki/)((?!: ?!: ?!:).)*$')})['href']\n",
    "        count=+1\n",
    "        if url_new[-1] == '/wiki/Philosophy':\n",
    "            break    \n",
    "\n",
    "        url_new.append(link_new)\n",
    "    return('The program reached to Philosophy page: http://en.wikipedia.org/wiki/Philosophy')   \n",
    "\n",
    "    \n"
   ]
  },
  {
   "cell_type": "code",
   "execution_count": 3,
   "metadata": {},
   "outputs": [
    {
     "name": "stdout",
     "output_type": "stream",
     "text": [
      "List of all pages visited\n",
      "http://en.wikipedia.org/wiki/Point_and_click\n",
      "http://en.wikipedia.org/wiki/User_(computing)\n",
      "http://en.wikipedia.org/wiki/Computer\n",
      "http://en.wikipedia.org/wiki/Sequence\n",
      "http://en.wikipedia.org/wiki/Mathematics\n",
      "http://en.wikipedia.org/wiki/Ancient_Greek\n",
      "http://en.wikipedia.org/wiki/Greek_language\n",
      "http://en.wikipedia.org/wiki/Modern_Greek\n",
      "http://en.wikipedia.org/wiki/Dialect\n",
      "http://en.wikipedia.org/wiki/Latin\n",
      "http://en.wikipedia.org/wiki/Help:IPA/Latin\n",
      "http://en.wikipedia.org/wiki/International_Phonetic_Alphabet\n",
      "http://en.wikipedia.org/wiki/Alphabet\n",
      "http://en.wikipedia.org/wiki/Letter_(alphabet)\n",
      "http://en.wikipedia.org/wiki/Symbol\n",
      "http://en.wikipedia.org/wiki/Idea\n",
      "http://en.wikipedia.org/wiki/Philosophy\n"
     ]
    },
    {
     "data": {
      "text/plain": [
       "'The program reached to Philosophy page: http://en.wikipedia.org/wiki/Philosophy'"
      ]
     },
     "execution_count": 3,
     "metadata": {},
     "output_type": "execute_result"
    }
   ],
   "source": [
    "find_first_link()"
   ]
  },
  {
   "cell_type": "code",
   "execution_count": null,
   "metadata": {},
   "outputs": [],
   "source": []
  }
 ],
 "metadata": {
  "kernelspec": {
   "display_name": "Python 3",
   "language": "python",
   "name": "python3"
  },
  "language_info": {
   "codemirror_mode": {
    "name": "ipython",
    "version": 3
   },
   "file_extension": ".py",
   "mimetype": "text/x-python",
   "name": "python",
   "nbconvert_exporter": "python",
   "pygments_lexer": "ipython3",
   "version": "3.6.8"
  }
 },
 "nbformat": 4,
 "nbformat_minor": 2
}
