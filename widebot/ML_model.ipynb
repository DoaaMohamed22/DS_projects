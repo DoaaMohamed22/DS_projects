{
 "cells": [
  {
   "cell_type": "code",
   "execution_count": 1,
   "metadata": {},
   "outputs": [],
   "source": [
    "#import inportant libs\n",
    "import numpy as np\n",
    "import pandas as pd\n",
    "import matplotlib.pyplot as plt\n",
    "%matplotlib inline\n",
    "import seaborn as sns\n",
    "sns.set(style=\"ticks\", color_codes=True)\n",
    "import warnings\n",
    "warnings.filterwarnings('ignore')"
   ]
  },
  {
   "cell_type": "markdown",
   "metadata": {},
   "source": [
    "## Read and exploer data "
   ]
  },
  {
   "cell_type": "code",
   "execution_count": 2,
   "metadata": {},
   "outputs": [
    {
     "data": {
      "text/html": [
       "<div>\n",
       "<style scoped>\n",
       "    .dataframe tbody tr th:only-of-type {\n",
       "        vertical-align: middle;\n",
       "    }\n",
       "\n",
       "    .dataframe tbody tr th {\n",
       "        vertical-align: top;\n",
       "    }\n",
       "\n",
       "    .dataframe thead th {\n",
       "        text-align: right;\n",
       "    }\n",
       "</style>\n",
       "<table border=\"1\" class=\"dataframe\">\n",
       "  <thead>\n",
       "    <tr style=\"text-align: right;\">\n",
       "      <th></th>\n",
       "      <th>variable1</th>\n",
       "      <th>variable2</th>\n",
       "      <th>variable3</th>\n",
       "      <th>variable4</th>\n",
       "      <th>variable5</th>\n",
       "      <th>variable6</th>\n",
       "      <th>variable7</th>\n",
       "      <th>variable8</th>\n",
       "      <th>variable9</th>\n",
       "      <th>variable10</th>\n",
       "      <th>variable11</th>\n",
       "      <th>variable12</th>\n",
       "      <th>variable13</th>\n",
       "      <th>variable14</th>\n",
       "      <th>variable15</th>\n",
       "      <th>variable17</th>\n",
       "      <th>variable18</th>\n",
       "      <th>variable19</th>\n",
       "      <th>classLabel</th>\n",
       "    </tr>\n",
       "  </thead>\n",
       "  <tbody>\n",
       "    <tr>\n",
       "      <th>0</th>\n",
       "      <td>a</td>\n",
       "      <td>17,92</td>\n",
       "      <td>5,4e-05</td>\n",
       "      <td>u</td>\n",
       "      <td>g</td>\n",
       "      <td>c</td>\n",
       "      <td>v</td>\n",
       "      <td>1,75</td>\n",
       "      <td>f</td>\n",
       "      <td>t</td>\n",
       "      <td>1</td>\n",
       "      <td>t</td>\n",
       "      <td>g</td>\n",
       "      <td>80.0</td>\n",
       "      <td>5</td>\n",
       "      <td>800000.0</td>\n",
       "      <td>t</td>\n",
       "      <td>0</td>\n",
       "      <td>no.</td>\n",
       "    </tr>\n",
       "    <tr>\n",
       "      <th>1</th>\n",
       "      <td>b</td>\n",
       "      <td>16,92</td>\n",
       "      <td>3,35e-05</td>\n",
       "      <td>y</td>\n",
       "      <td>p</td>\n",
       "      <td>k</td>\n",
       "      <td>v</td>\n",
       "      <td>0,29</td>\n",
       "      <td>f</td>\n",
       "      <td>f</td>\n",
       "      <td>0</td>\n",
       "      <td>f</td>\n",
       "      <td>s</td>\n",
       "      <td>200.0</td>\n",
       "      <td>0</td>\n",
       "      <td>2000000.0</td>\n",
       "      <td>NaN</td>\n",
       "      <td>0</td>\n",
       "      <td>no.</td>\n",
       "    </tr>\n",
       "    <tr>\n",
       "      <th>2</th>\n",
       "      <td>b</td>\n",
       "      <td>31,25</td>\n",
       "      <td>0,0001125</td>\n",
       "      <td>u</td>\n",
       "      <td>g</td>\n",
       "      <td>ff</td>\n",
       "      <td>ff</td>\n",
       "      <td>0</td>\n",
       "      <td>f</td>\n",
       "      <td>t</td>\n",
       "      <td>1</td>\n",
       "      <td>f</td>\n",
       "      <td>g</td>\n",
       "      <td>96.0</td>\n",
       "      <td>19</td>\n",
       "      <td>960000.0</td>\n",
       "      <td>t</td>\n",
       "      <td>0</td>\n",
       "      <td>no.</td>\n",
       "    </tr>\n",
       "    <tr>\n",
       "      <th>3</th>\n",
       "      <td>a</td>\n",
       "      <td>48,17</td>\n",
       "      <td>0,0001335</td>\n",
       "      <td>u</td>\n",
       "      <td>g</td>\n",
       "      <td>i</td>\n",
       "      <td>o</td>\n",
       "      <td>0,335</td>\n",
       "      <td>f</td>\n",
       "      <td>f</td>\n",
       "      <td>0</td>\n",
       "      <td>f</td>\n",
       "      <td>g</td>\n",
       "      <td>0.0</td>\n",
       "      <td>120</td>\n",
       "      <td>0.0</td>\n",
       "      <td>NaN</td>\n",
       "      <td>0</td>\n",
       "      <td>no.</td>\n",
       "    </tr>\n",
       "    <tr>\n",
       "      <th>4</th>\n",
       "      <td>b</td>\n",
       "      <td>32,33</td>\n",
       "      <td>0,00035</td>\n",
       "      <td>u</td>\n",
       "      <td>g</td>\n",
       "      <td>k</td>\n",
       "      <td>v</td>\n",
       "      <td>0,5</td>\n",
       "      <td>f</td>\n",
       "      <td>f</td>\n",
       "      <td>0</td>\n",
       "      <td>t</td>\n",
       "      <td>g</td>\n",
       "      <td>232.0</td>\n",
       "      <td>0</td>\n",
       "      <td>2320000.0</td>\n",
       "      <td>f</td>\n",
       "      <td>0</td>\n",
       "      <td>no.</td>\n",
       "    </tr>\n",
       "  </tbody>\n",
       "</table>\n",
       "</div>"
      ],
      "text/plain": [
       "  variable1 variable2  variable3 variable4 variable5 variable6 variable7  \\\n",
       "0         a     17,92    5,4e-05         u         g         c         v   \n",
       "1         b     16,92   3,35e-05         y         p         k         v   \n",
       "2         b     31,25  0,0001125         u         g        ff        ff   \n",
       "3         a     48,17  0,0001335         u         g         i         o   \n",
       "4         b     32,33    0,00035         u         g         k         v   \n",
       "\n",
       "  variable8 variable9 variable10  variable11 variable12 variable13  \\\n",
       "0      1,75         f          t           1          t          g   \n",
       "1      0,29         f          f           0          f          s   \n",
       "2         0         f          t           1          f          g   \n",
       "3     0,335         f          f           0          f          g   \n",
       "4       0,5         f          f           0          t          g   \n",
       "\n",
       "   variable14  variable15  variable17 variable18  variable19 classLabel  \n",
       "0        80.0           5    800000.0          t           0        no.  \n",
       "1       200.0           0   2000000.0        NaN           0        no.  \n",
       "2        96.0          19    960000.0          t           0        no.  \n",
       "3         0.0         120         0.0        NaN           0        no.  \n",
       "4       232.0           0   2320000.0          f           0        no.  "
      ]
     },
     "execution_count": 2,
     "metadata": {},
     "output_type": "execute_result"
    }
   ],
   "source": [
    "#read training data\n",
    "df= pd.read_csv('training.csv',delimiter=\";\")\n",
    "# return the frist ficv row\n",
    "df.head()"
   ]
  },
  {
   "cell_type": "code",
   "execution_count": 3,
   "metadata": {},
   "outputs": [
    {
     "name": "stdout",
     "output_type": "stream",
     "text": [
      "<class 'pandas.core.frame.DataFrame'>\n",
      "RangeIndex: 3700 entries, 0 to 3699\n",
      "Data columns (total 19 columns):\n",
      "variable1     3661 non-null object\n",
      "variable2     3661 non-null object\n",
      "variable3     3700 non-null object\n",
      "variable4     3636 non-null object\n",
      "variable5     3636 non-null object\n",
      "variable6     3634 non-null object\n",
      "variable7     3634 non-null object\n",
      "variable8     3700 non-null object\n",
      "variable9     3700 non-null object\n",
      "variable10    3700 non-null object\n",
      "variable11    3700 non-null int64\n",
      "variable12    3700 non-null object\n",
      "variable13    3700 non-null object\n",
      "variable14    3600 non-null float64\n",
      "variable15    3700 non-null int64\n",
      "variable17    3600 non-null float64\n",
      "variable18    1555 non-null object\n",
      "variable19    3700 non-null int64\n",
      "classLabel    3700 non-null object\n",
      "dtypes: float64(2), int64(3), object(14)\n",
      "memory usage: 549.3+ KB\n"
     ]
    }
   ],
   "source": [
    "#geting information about data\n",
    "df.info()"
   ]
  },
  {
   "cell_type": "code",
   "execution_count": 4,
   "metadata": {},
   "outputs": [
    {
     "data": {
      "text/plain": [
       "variable1       39\n",
       "variable2       39\n",
       "variable3        0\n",
       "variable4       64\n",
       "variable5       64\n",
       "variable6       66\n",
       "variable7       66\n",
       "variable8        0\n",
       "variable9        0\n",
       "variable10       0\n",
       "variable11       0\n",
       "variable12       0\n",
       "variable13       0\n",
       "variable14     100\n",
       "variable15       0\n",
       "variable17     100\n",
       "variable18    2145\n",
       "variable19       0\n",
       "classLabel       0\n",
       "dtype: int64"
      ]
     },
     "execution_count": 4,
     "metadata": {},
     "output_type": "execute_result"
    }
   ],
   "source": [
    "#Null_values\n",
    "df.isnull().sum()"
   ]
  },
  {
   "cell_type": "code",
   "execution_count": 5,
   "metadata": {},
   "outputs": [
    {
     "data": {
      "text/html": [
       "<div>\n",
       "<style scoped>\n",
       "    .dataframe tbody tr th:only-of-type {\n",
       "        vertical-align: middle;\n",
       "    }\n",
       "\n",
       "    .dataframe tbody tr th {\n",
       "        vertical-align: top;\n",
       "    }\n",
       "\n",
       "    .dataframe thead th {\n",
       "        text-align: right;\n",
       "    }\n",
       "</style>\n",
       "<table border=\"1\" class=\"dataframe\">\n",
       "  <thead>\n",
       "    <tr style=\"text-align: right;\">\n",
       "      <th></th>\n",
       "      <th>variable1</th>\n",
       "      <th>variable2</th>\n",
       "      <th>variable3</th>\n",
       "      <th>variable4</th>\n",
       "      <th>variable5</th>\n",
       "      <th>variable6</th>\n",
       "      <th>variable7</th>\n",
       "      <th>variable8</th>\n",
       "      <th>variable9</th>\n",
       "      <th>variable10</th>\n",
       "      <th>variable11</th>\n",
       "      <th>variable12</th>\n",
       "      <th>variable13</th>\n",
       "      <th>variable14</th>\n",
       "      <th>variable15</th>\n",
       "      <th>variable17</th>\n",
       "      <th>variable18</th>\n",
       "      <th>variable19</th>\n",
       "      <th>classLabel</th>\n",
       "    </tr>\n",
       "  </thead>\n",
       "  <tbody>\n",
       "    <tr>\n",
       "      <th>unique</th>\n",
       "      <td>[a, b, nan]</td>\n",
       "      <td>[17,92, 16,92, 31,25, 48,17, 32,33, 34,83, 26,...</td>\n",
       "      <td>[5,4e-05, 3,35e-05, 0,0001125, 0,0001335, 0,00...</td>\n",
       "      <td>[u, y, nan, l]</td>\n",
       "      <td>[g, p, nan, gg]</td>\n",
       "      <td>[c, k, ff, i, j, q, W, d, m, cc, aa, r, x, e, ...</td>\n",
       "      <td>[v, ff, o, h, j, bb, n, z, nan, dd]</td>\n",
       "      <td>[1,75, 0,29, 0, 0,335, 0,5, 0,25, 1,085, 1,5, ...</td>\n",
       "      <td>[f, t]</td>\n",
       "      <td>[t, f]</td>\n",
       "      <td>[1, 0, 2, 3, 5, 15, 20, 11, 4, 12, 7, 9, 14, 6...</td>\n",
       "      <td>[t, f]</td>\n",
       "      <td>[g, s, p]</td>\n",
       "      <td>[80.0, 200.0, 96.0, 0.0, 232.0, 160.0, 276.0, ...</td>\n",
       "      <td>[5, 0, 19, 120, 1, 204, 140, 13, 20, 21, 18, 4...</td>\n",
       "      <td>[800000.0, 2000000.0, 960000.0, 0.0, 2320000.0...</td>\n",
       "      <td>[t, nan, f]</td>\n",
       "      <td>[0, 1]</td>\n",
       "      <td>[no., yes.]</td>\n",
       "    </tr>\n",
       "  </tbody>\n",
       "</table>\n",
       "</div>"
      ],
      "text/plain": [
       "          variable1                                          variable2  \\\n",
       "unique  [a, b, nan]  [17,92, 16,92, 31,25, 48,17, 32,33, 34,83, 26,...   \n",
       "\n",
       "                                                variable3       variable4  \\\n",
       "unique  [5,4e-05, 3,35e-05, 0,0001125, 0,0001335, 0,00...  [u, y, nan, l]   \n",
       "\n",
       "              variable5                                          variable6  \\\n",
       "unique  [g, p, nan, gg]  [c, k, ff, i, j, q, W, d, m, cc, aa, r, x, e, ...   \n",
       "\n",
       "                                  variable7  \\\n",
       "unique  [v, ff, o, h, j, bb, n, z, nan, dd]   \n",
       "\n",
       "                                                variable8 variable9  \\\n",
       "unique  [1,75, 0,29, 0, 0,335, 0,5, 0,25, 1,085, 1,5, ...    [f, t]   \n",
       "\n",
       "       variable10                                         variable11  \\\n",
       "unique     [t, f]  [1, 0, 2, 3, 5, 15, 20, 11, 4, 12, 7, 9, 14, 6...   \n",
       "\n",
       "       variable12 variable13  \\\n",
       "unique     [t, f]  [g, s, p]   \n",
       "\n",
       "                                               variable14  \\\n",
       "unique  [80.0, 200.0, 96.0, 0.0, 232.0, 160.0, 276.0, ...   \n",
       "\n",
       "                                               variable15  \\\n",
       "unique  [5, 0, 19, 120, 1, 204, 140, 13, 20, 21, 18, 4...   \n",
       "\n",
       "                                               variable17   variable18  \\\n",
       "unique  [800000.0, 2000000.0, 960000.0, 0.0, 2320000.0...  [t, nan, f]   \n",
       "\n",
       "       variable19   classLabel  \n",
       "unique     [0, 1]  [no., yes.]  "
      ]
     },
     "execution_count": 5,
     "metadata": {},
     "output_type": "execute_result"
    }
   ],
   "source": [
    "df.agg(['unique'])"
   ]
  },
  {
   "cell_type": "code",
   "execution_count": 9,
   "metadata": {},
   "outputs": [
    {
     "name": "stdout",
     "output_type": "stream",
     "text": [
      "value_counts var18\n",
      "t    1023\n",
      "f     532\n",
      "Name: variable18, dtype: int64\n",
      "value_counts var9\n",
      "t    3171\n",
      "f     529\n",
      "Name: variable9, dtype: int64\n",
      "value_counts var10\n",
      "t    2239\n",
      "f    1461\n",
      "Name: variable10, dtype: int64\n",
      "value_counts var19\n",
      "1    3424\n",
      "0     276\n",
      "Name: variable19, dtype: int64\n",
      "value_counts classLabel\n",
      "yes.    3424\n",
      "no.      276\n",
      "Name: classLabel, dtype: int64\n"
     ]
    }
   ],
   "source": [
    "# value_counts all cols appered (F,T) before fill nan.\n",
    "print('value_counts var18')\n",
    "print(df['variable18'].value_counts())\n",
    "print('value_counts var9')\n",
    "print(df['variable9'].value_counts())\n",
    "print('value_counts var10')\n",
    "print(df['variable10'].value_counts())\n",
    "print('value_counts var19')\n",
    "print(df['variable19'].value_counts())\n",
    "print('value_counts classLabel')\n",
    "print(df['classLabel'].value_counts())"
   ]
  },
  {
   "cell_type": "markdown",
   "metadata": {},
   "source": [
    "### Notes \n",
    "#### There are some col null.\n",
    "#### var2, var3,var8,var14, var15,var17 ->num(Float)\n",
    "#### some col need to convert from obj to cat\n",
    "#### var1, var4, var5,var6, var7, var9, var10,var12, var13, var18, var19  \n",
    "\n"
   ]
  },
  {
   "cell_type": "markdown",
   "metadata": {},
   "source": [
    "### Cleaing Data "
   ]
  },
  {
   "cell_type": "code",
   "execution_count": 10,
   "metadata": {},
   "outputs": [],
   "source": [
    "#replace \",\" to convert to float.\n",
    "df['variable2']=df['variable2'].str.replace(',', '').astype(float)\n",
    "df['variable3']=df['variable3'].str.replace(',', '').astype(float)\n",
    "df['variable8']=df['variable8'].str.replace(',', '').astype(float)"
   ]
  },
  {
   "cell_type": "code",
   "execution_count": 11,
   "metadata": {},
   "outputs": [],
   "source": [
    "# training=training.astype({'variable2':'float','variable3':'float','variable8':'float'})\n",
    "values_mean ={'variable2':df['variable2'].mean()\n",
    ",'variable3':df['variable3'].mean(),'variable8':df['variable8'].mean(),'variable14':df['variable14'].mean()\n",
    "              ,'variable17':df['variable17'].mean()}\n",
    "df=df.fillna(value=values_mean)\n"
   ]
  },
  {
   "cell_type": "code",
   "execution_count": 12,
   "metadata": {},
   "outputs": [],
   "source": [
    "# convert the datatype object to category\n",
    "df=df.astype({'variable1':'category','variable4':'category','variable5':'category','variable6':'category','variable7':'category'\n",
    "         ,'variable9':'category','variable10':'category'\n",
    "                 ,'variable12':'category','variable13':'category','variable18':'category','variable19':'category'})\n"
   ]
  },
  {
   "cell_type": "code",
   "execution_count": 13,
   "metadata": {},
   "outputs": [],
   "source": [
    "## fill nan values in categort cols with mode/.\n",
    "values ={'variable1':df['variable1'].mode()[0]\n",
    ",'variable4':df['variable4'].mode()[0],'variable5':df['variable5'].mode()[0]\n",
    "         ,'variable6':df['variable6'].mode()[0],'variable7':df['variable7'].mode()[0]\n",
    "         ,'variable9':df['variable9'].mode()[0],'variable10':df['variable10'].mode()[0]\n",
    "        ,'variable12':df['variable12'].mode()[0],'variable13':df['variable13'].mode()[0]\n",
    "         ,'variable18':df['variable18'].mode()[0],'variable19':df['variable19'].mode()[0]}\n",
    "df=df.fillna(value=values)\n"
   ]
  },
  {
   "cell_type": "code",
   "execution_count": 14,
   "metadata": {},
   "outputs": [
    {
     "name": "stdout",
     "output_type": "stream",
     "text": [
      "<class 'pandas.core.frame.DataFrame'>\n",
      "RangeIndex: 3700 entries, 0 to 3699\n",
      "Data columns (total 19 columns):\n",
      "variable1     3700 non-null category\n",
      "variable2     3700 non-null float64\n",
      "variable3     3700 non-null float64\n",
      "variable4     3700 non-null category\n",
      "variable5     3700 non-null category\n",
      "variable6     3700 non-null category\n",
      "variable7     3700 non-null category\n",
      "variable8     3700 non-null float64\n",
      "variable9     3700 non-null category\n",
      "variable10    3700 non-null category\n",
      "variable11    3700 non-null int64\n",
      "variable12    3700 non-null category\n",
      "variable13    3700 non-null category\n",
      "variable14    3700 non-null float64\n",
      "variable15    3700 non-null int64\n",
      "variable17    3700 non-null float64\n",
      "variable18    3700 non-null category\n",
      "variable19    3700 non-null category\n",
      "classLabel    3700 non-null object\n",
      "dtypes: category(11), float64(5), int64(2), object(1)\n",
      "memory usage: 273.1+ KB\n"
     ]
    }
   ],
   "source": [
    "## check nan values and datatype\n",
    "df.info()"
   ]
  },
  {
   "cell_type": "code",
   "execution_count": 15,
   "metadata": {},
   "outputs": [
    {
     "data": {
      "text/plain": [
       "CategoricalDtype(categories=['0', '1'], ordered=False)"
      ]
     },
     "execution_count": 15,
     "metadata": {},
     "output_type": "execute_result"
    }
   ],
   "source": [
    "#replace ('no', 'yes' with (bool)0,1) and \n",
    "df['classLabel'].replace('no.','0',inplace=True)\n",
    "df['classLabel'].replace('yes.','1',inplace=True)\n",
    "df['classLabel'] =df['classLabel'].astype('category')\n",
    "df['classLabel'].dtype"
   ]
  },
  {
   "cell_type": "markdown",
   "metadata": {},
   "source": [
    "### Understand data \n"
   ]
  },
  {
   "cell_type": "code",
   "execution_count": 16,
   "metadata": {},
   "outputs": [
    {
     "data": {
      "text/html": [
       "<div>\n",
       "<style scoped>\n",
       "    .dataframe tbody tr th:only-of-type {\n",
       "        vertical-align: middle;\n",
       "    }\n",
       "\n",
       "    .dataframe tbody tr th {\n",
       "        vertical-align: top;\n",
       "    }\n",
       "\n",
       "    .dataframe thead th {\n",
       "        text-align: right;\n",
       "    }\n",
       "</style>\n",
       "<table border=\"1\" class=\"dataframe\">\n",
       "  <thead>\n",
       "    <tr style=\"text-align: right;\">\n",
       "      <th></th>\n",
       "      <th>variable2</th>\n",
       "      <th>variable3</th>\n",
       "      <th>variable8</th>\n",
       "      <th>variable11</th>\n",
       "      <th>variable14</th>\n",
       "      <th>variable15</th>\n",
       "      <th>variable17</th>\n",
       "    </tr>\n",
       "  </thead>\n",
       "  <tbody>\n",
       "    <tr>\n",
       "      <th>count</th>\n",
       "      <td>3700.000000</td>\n",
       "      <td>3700.000000</td>\n",
       "      <td>3700.000000</td>\n",
       "      <td>3700.000000</td>\n",
       "      <td>3700.000000</td>\n",
       "      <td>3700.000000</td>\n",
       "      <td>3.700000e+03</td>\n",
       "    </tr>\n",
       "    <tr>\n",
       "      <th>mean</th>\n",
       "      <td>2698.231631</td>\n",
       "      <td>1210.569655</td>\n",
       "      <td>720.540000</td>\n",
       "      <td>4.160000</td>\n",
       "      <td>162.695000</td>\n",
       "      <td>2246.705946</td>\n",
       "      <td>1.626950e+06</td>\n",
       "    </tr>\n",
       "    <tr>\n",
       "      <th>std</th>\n",
       "      <td>1681.454083</td>\n",
       "      <td>3163.834623</td>\n",
       "      <td>1930.736215</td>\n",
       "      <td>6.750553</td>\n",
       "      <td>153.921934</td>\n",
       "      <td>8708.571126</td>\n",
       "      <td>1.539219e+06</td>\n",
       "    </tr>\n",
       "    <tr>\n",
       "      <th>min</th>\n",
       "      <td>16.000000</td>\n",
       "      <td>0.000000</td>\n",
       "      <td>0.000000</td>\n",
       "      <td>0.000000</td>\n",
       "      <td>0.000000</td>\n",
       "      <td>0.000000</td>\n",
       "      <td>0.000000e+00</td>\n",
       "    </tr>\n",
       "    <tr>\n",
       "      <th>25%</th>\n",
       "      <td>1917.000000</td>\n",
       "      <td>0.000830</td>\n",
       "      <td>8.000000</td>\n",
       "      <td>0.000000</td>\n",
       "      <td>0.000000</td>\n",
       "      <td>0.000000</td>\n",
       "      <td>0.000000e+00</td>\n",
       "    </tr>\n",
       "    <tr>\n",
       "      <th>50%</th>\n",
       "      <td>2567.000000</td>\n",
       "      <td>55.000000</td>\n",
       "      <td>71.000000</td>\n",
       "      <td>2.000000</td>\n",
       "      <td>120.000000</td>\n",
       "      <td>113.000000</td>\n",
       "      <td>1.200000e+06</td>\n",
       "    </tr>\n",
       "    <tr>\n",
       "      <th>75%</th>\n",
       "      <td>3625.000000</td>\n",
       "      <td>452.250000</td>\n",
       "      <td>415.000000</td>\n",
       "      <td>6.000000</td>\n",
       "      <td>274.000000</td>\n",
       "      <td>1059.750000</td>\n",
       "      <td>2.740000e+06</td>\n",
       "    </tr>\n",
       "    <tr>\n",
       "      <th>max</th>\n",
       "      <td>8025.000000</td>\n",
       "      <td>26335.000000</td>\n",
       "      <td>14415.000000</td>\n",
       "      <td>67.000000</td>\n",
       "      <td>1160.000000</td>\n",
       "      <td>100000.000000</td>\n",
       "      <td>1.160000e+07</td>\n",
       "    </tr>\n",
       "  </tbody>\n",
       "</table>\n",
       "</div>"
      ],
      "text/plain": [
       "         variable2     variable3     variable8   variable11   variable14  \\\n",
       "count  3700.000000   3700.000000   3700.000000  3700.000000  3700.000000   \n",
       "mean   2698.231631   1210.569655    720.540000     4.160000   162.695000   \n",
       "std    1681.454083   3163.834623   1930.736215     6.750553   153.921934   \n",
       "min      16.000000      0.000000      0.000000     0.000000     0.000000   \n",
       "25%    1917.000000      0.000830      8.000000     0.000000     0.000000   \n",
       "50%    2567.000000     55.000000     71.000000     2.000000   120.000000   \n",
       "75%    3625.000000    452.250000    415.000000     6.000000   274.000000   \n",
       "max    8025.000000  26335.000000  14415.000000    67.000000  1160.000000   \n",
       "\n",
       "          variable15    variable17  \n",
       "count    3700.000000  3.700000e+03  \n",
       "mean     2246.705946  1.626950e+06  \n",
       "std      8708.571126  1.539219e+06  \n",
       "min         0.000000  0.000000e+00  \n",
       "25%         0.000000  0.000000e+00  \n",
       "50%       113.000000  1.200000e+06  \n",
       "75%      1059.750000  2.740000e+06  \n",
       "max    100000.000000  1.160000e+07  "
      ]
     },
     "execution_count": 16,
     "metadata": {},
     "output_type": "execute_result"
    }
   ],
   "source": [
    "# describe float and int values\n",
    "df.describe()"
   ]
  },
  {
   "cell_type": "markdown",
   "metadata": {},
   "source": [
    "#### the mean, max and std in var 14 , var 17 the same but the var17 *10**6 :: maybe have the same values< look at (if ture will delete the col"
   ]
  },
  {
   "cell_type": "code",
   "execution_count": 33,
   "metadata": {},
   "outputs": [
    {
     "name": "stdout",
     "output_type": "stream",
     "text": [
      "sum of var17 / sum of var14:  10000.0\n"
     ]
    },
    {
     "data": {
      "text/html": [
       "<div>\n",
       "<style scoped>\n",
       "    .dataframe tbody tr th:only-of-type {\n",
       "        vertical-align: middle;\n",
       "    }\n",
       "\n",
       "    .dataframe tbody tr th {\n",
       "        vertical-align: top;\n",
       "    }\n",
       "\n",
       "    .dataframe thead th {\n",
       "        text-align: right;\n",
       "    }\n",
       "</style>\n",
       "<table border=\"1\" class=\"dataframe\">\n",
       "  <thead>\n",
       "    <tr style=\"text-align: right;\">\n",
       "      <th></th>\n",
       "      <th>variable17</th>\n",
       "      <th>variable14</th>\n",
       "    </tr>\n",
       "  </thead>\n",
       "  <tbody>\n",
       "    <tr>\n",
       "      <th>0</th>\n",
       "      <td>800000.0</td>\n",
       "      <td>80.0</td>\n",
       "    </tr>\n",
       "    <tr>\n",
       "      <th>1</th>\n",
       "      <td>2000000.0</td>\n",
       "      <td>200.0</td>\n",
       "    </tr>\n",
       "    <tr>\n",
       "      <th>2</th>\n",
       "      <td>960000.0</td>\n",
       "      <td>96.0</td>\n",
       "    </tr>\n",
       "    <tr>\n",
       "      <th>3</th>\n",
       "      <td>0.0</td>\n",
       "      <td>0.0</td>\n",
       "    </tr>\n",
       "    <tr>\n",
       "      <th>4</th>\n",
       "      <td>2320000.0</td>\n",
       "      <td>232.0</td>\n",
       "    </tr>\n",
       "  </tbody>\n",
       "</table>\n",
       "</div>"
      ],
      "text/plain": [
       "   variable17  variable14\n",
       "0    800000.0        80.0\n",
       "1   2000000.0       200.0\n",
       "2    960000.0        96.0\n",
       "3         0.0         0.0\n",
       "4   2320000.0       232.0"
      ]
     },
     "execution_count": 33,
     "metadata": {},
     "output_type": "execute_result"
    }
   ],
   "source": [
    "print('sum of var17 / sum of var14: ',df['variable17'].sum()/df['variable14'].sum())\n",
    "# this is true \n",
    "df[['variable17','variable14']].head()\n",
    "\n"
   ]
  },
  {
   "cell_type": "code",
   "execution_count": 35,
   "metadata": {},
   "outputs": [
    {
     "data": {
      "image/png": "[encoded data removed]",
      "text/plain": [
       "<Figure size 720x720 with 9 Axes>"
      ]
     },
     "metadata": {
      "needs_background": "light"
     },
     "output_type": "display_data"
    }
   ],
   "source": [
    "boxplot = df.boxplot(by='classLabel',figsize  =(10,10),grid=True, rot=45, fontsize=15)"
   ]
  },
  {
   "cell_type": "markdown",
   "metadata": {},
   "source": [
    "#### comment \n",
    "#### There are outlier in variable17"
   ]
  },
  {
   "cell_type": "code",
   "execution_count": 34,
   "metadata": {},
   "outputs": [
    {
     "data": {
      "text/html": [
       "<div>\n",
       "<style scoped>\n",
       "    .dataframe tbody tr th:only-of-type {\n",
       "        vertical-align: middle;\n",
       "    }\n",
       "\n",
       "    .dataframe tbody tr th {\n",
       "        vertical-align: top;\n",
       "    }\n",
       "\n",
       "    .dataframe thead th {\n",
       "        text-align: right;\n",
       "    }\n",
       "</style>\n",
       "<table border=\"1\" class=\"dataframe\">\n",
       "  <thead>\n",
       "    <tr style=\"text-align: right;\">\n",
       "      <th></th>\n",
       "      <th>variable1</th>\n",
       "      <th>variable4</th>\n",
       "      <th>variable5</th>\n",
       "      <th>variable6</th>\n",
       "      <th>variable7</th>\n",
       "      <th>variable9</th>\n",
       "      <th>variable10</th>\n",
       "      <th>variable12</th>\n",
       "      <th>variable13</th>\n",
       "      <th>variable18</th>\n",
       "      <th>variable19</th>\n",
       "      <th>classLabel</th>\n",
       "    </tr>\n",
       "  </thead>\n",
       "  <tbody>\n",
       "    <tr>\n",
       "      <th>count</th>\n",
       "      <td>3700</td>\n",
       "      <td>3700</td>\n",
       "      <td>3700</td>\n",
       "      <td>3700</td>\n",
       "      <td>3700</td>\n",
       "      <td>3700</td>\n",
       "      <td>3700</td>\n",
       "      <td>3700</td>\n",
       "      <td>3700</td>\n",
       "      <td>3700</td>\n",
       "      <td>3700</td>\n",
       "      <td>3700</td>\n",
       "    </tr>\n",
       "    <tr>\n",
       "      <th>unique</th>\n",
       "      <td>2</td>\n",
       "      <td>3</td>\n",
       "      <td>3</td>\n",
       "      <td>14</td>\n",
       "      <td>9</td>\n",
       "      <td>2</td>\n",
       "      <td>2</td>\n",
       "      <td>2</td>\n",
       "      <td>3</td>\n",
       "      <td>2</td>\n",
       "      <td>2</td>\n",
       "      <td>2</td>\n",
       "    </tr>\n",
       "    <tr>\n",
       "      <th>top</th>\n",
       "      <td>b</td>\n",
       "      <td>u</td>\n",
       "      <td>g</td>\n",
       "      <td>c</td>\n",
       "      <td>v</td>\n",
       "      <td>t</td>\n",
       "      <td>t</td>\n",
       "      <td>f</td>\n",
       "      <td>g</td>\n",
       "      <td>t</td>\n",
       "      <td>1</td>\n",
       "      <td>1</td>\n",
       "    </tr>\n",
       "    <tr>\n",
       "      <th>freq</th>\n",
       "      <td>2421</td>\n",
       "      <td>3119</td>\n",
       "      <td>3119</td>\n",
       "      <td>853</td>\n",
       "      <td>2081</td>\n",
       "      <td>3171</td>\n",
       "      <td>2239</td>\n",
       "      <td>1924</td>\n",
       "      <td>3430</td>\n",
       "      <td>3168</td>\n",
       "      <td>3424</td>\n",
       "      <td>3424</td>\n",
       "    </tr>\n",
       "  </tbody>\n",
       "</table>\n",
       "</div>"
      ],
      "text/plain": [
       "       variable1 variable4 variable5 variable6 variable7 variable9 variable10  \\\n",
       "count       3700      3700      3700      3700      3700      3700       3700   \n",
       "unique         2         3         3        14         9         2          2   \n",
       "top            b         u         g         c         v         t          t   \n",
       "freq        2421      3119      3119       853      2081      3171       2239   \n",
       "\n",
       "       variable12 variable13 variable18  variable19 classLabel  \n",
       "count        3700       3700       3700        3700       3700  \n",
       "unique          2          3          2           2          2  \n",
       "top             f          g          t           1          1  \n",
       "freq         1924       3430       3168        3424       3424  "
      ]
     },
     "execution_count": 34,
     "metadata": {},
     "output_type": "execute_result"
    }
   ],
   "source": [
    "df.describe(include='category')"
   ]
  },
  {
   "cell_type": "code",
   "execution_count": 36,
   "metadata": {},
   "outputs": [
    {
     "data": {
      "text/plain": [
       "classLabel    1.000000\n",
       "variable11    0.153039\n",
       "variable8     0.069770\n",
       "variable15    0.066893\n",
       "variable3     0.020068\n",
       "variable2     0.017983\n",
       "variable17   -0.050644\n",
       "variable14   -0.050644\n",
       "Name: classLabel, dtype: float64"
      ]
     },
     "execution_count": 36,
     "metadata": {},
     "output_type": "execute_result"
    }
   ],
   "source": [
    "corr_class= df.assign(classLabel=df.classLabel.astype('category').cat.codes).corr()\n",
    "corr_class['classLabel'].sort_values(ascending=False)"
   ]
  },
  {
   "cell_type": "code",
   "execution_count": 37,
   "metadata": {},
   "outputs": [
    {
     "data": {
      "text/plain": [
       "<matplotlib.axes._subplots.AxesSubplot at 0x7f9e252c23c8>"
      ]
     },
     "execution_count": 37,
     "metadata": {},
     "output_type": "execute_result"
    },
    {
     "data": {
      "image/png": "[encoded data removed]",
      "text/plain": [
       "<Figure size 432x288 with 2 Axes>"
      ]
     },
     "metadata": {
      "needs_background": "light"
     },
     "output_type": "display_data"
    }
   ],
   "source": [
    "sns.heatmap(corr_class, \n",
    "        xticklabels=corr_class.columns,\n",
    "        yticklabels=corr_class.columns,annot=True,cmap=\"YlGnBu\")\n",
    "\n"
   ]
  },
  {
   "cell_type": "code",
   "execution_count": 38,
   "metadata": {},
   "outputs": [],
   "source": [
    "## visluation the category cols\n",
    "def cate_corr(col):\n",
    "    poutcome = pd.crosstab(df[col], df['classLabel'])\n",
    "    return(poutcome.plot(kind='bar'))\n"
   ]
  },
  {
   "cell_type": "code",
   "execution_count": 39,
   "metadata": {},
   "outputs": [],
   "source": [
    "## rate of category \n",
    "def cate_rate(col):\n",
    "    return(df.groupby(col).size()/len(df)*100)\n"
   ]
  },
  {
   "cell_type": "code",
   "execution_count": 40,
   "metadata": {},
   "outputs": [],
   "source": [
    "cate_list=['variable1','variable4','variable5','variable6','variable7'\n",
    " ,'variable9','variable10','variable12','variable13','variable18','variable19','classLabel']"
   ]
  },
  {
   "cell_type": "code",
   "execution_count": 41,
   "metadata": {},
   "outputs": [
    {
     "name": "stdout",
     "output_type": "stream",
     "text": [
      "variable1\n",
      "a    34.567568\n",
      "b    65.432432\n",
      "dtype: float64\n",
      "variable4\n",
      "l     0.864865\n",
      "u    84.297297\n",
      "y    14.837838\n",
      "dtype: float64\n",
      "variable5\n",
      "g     84.297297\n",
      "gg     0.864865\n",
      "p     14.837838\n",
      "dtype: float64\n",
      "variable6\n",
      "W      9.810811\n",
      "aa     5.675676\n",
      "c     23.054054\n",
      "cc     9.270270\n",
      "d      2.540541\n",
      "e      3.702703\n",
      "ff     3.675676\n",
      "i      5.162162\n",
      "j      1.054054\n",
      "k      4.594595\n",
      "m      4.837838\n",
      "q     16.540541\n",
      "r      0.891892\n",
      "x      9.189189\n",
      "dtype: float64\n",
      "variable7\n",
      "bb     9.162162\n",
      "dd     0.540541\n",
      "ff     4.162162\n",
      "h     26.216216\n",
      "j      1.000000\n",
      "n      0.891892\n",
      "o      0.459459\n",
      "v     56.243243\n",
      "z      1.324324\n",
      "dtype: float64\n",
      "variable9\n",
      "f    14.297297\n",
      "t    85.702703\n",
      "dtype: float64\n",
      "variable10\n",
      "f    39.486486\n",
      "t    60.513514\n",
      "dtype: float64\n",
      "variable12\n",
      "f    52.0\n",
      "t    48.0\n",
      "dtype: float64\n",
      "variable13\n",
      "g    92.702703\n",
      "p     2.189189\n",
      "s     5.108108\n",
      "dtype: float64\n",
      "variable18\n",
      "f    14.378378\n",
      "t    85.621622\n",
      "dtype: float64\n",
      "variable19\n",
      "0     7.459459\n",
      "1    92.540541\n",
      "dtype: float64\n",
      "classLabel\n",
      "0     7.459459\n",
      "1    92.540541\n",
      "dtype: float64\n"
     ]
    }
   ],
   "source": [
    "### calcules rate of cate\n",
    "for i in range(len(cate_list)):\n",
    "    print(cate_rate(cate_list[i]))"
   ]
  },
  {
   "cell_type": "code",
   "execution_count": 42,
   "metadata": {},
   "outputs": [
    {
     "name": "stdout",
     "output_type": "stream",
     "text": [
      "AxesSubplot(0.125,0.125;0.775x0.755)\n",
      "AxesSubplot(0.125,0.125;0.775x0.755)\n",
      "AxesSubplot(0.125,0.125;0.775x0.755)\n",
      "AxesSubplot(0.125,0.125;0.775x0.755)\n",
      "AxesSubplot(0.125,0.125;0.775x0.755)\n",
      "AxesSubplot(0.125,0.125;0.775x0.755)\n",
      "AxesSubplot(0.125,0.125;0.775x0.755)\n",
      "AxesSubplot(0.125,0.125;0.775x0.755)\n",
      "AxesSubplot(0.125,0.125;0.775x0.755)\n",
      "AxesSubplot(0.125,0.125;0.775x0.755)\n",
      "AxesSubplot(0.125,0.125;0.775x0.755)\n",
      "AxesSubplot(0.125,0.125;0.775x0.755)\n"
     ]
    },
    {
     "data": {
      "image/png": "[encoded data removed]",
      "text/plain": [
       "<Figure size 432x288 with 1 Axes>"
      ]
     },
     "metadata": {
      "needs_background": "light"
     },
     "output_type": "display_data"
    },
    {
     "data": {
      "image/png": "[encoded data removed]",
      "text/plain": [
       "<Figure size 432x288 with 1 Axes>"
      ]
     },
     "metadata": {
      "needs_background": "light"
     },
     "output_type": "display_data"
    },
    {
     "data": {
      "image/png": "[encoded data removed]",
      "text/plain": [
       "<Figure size 432x288 with 1 Axes>"
      ]
     },
     "metadata": {
      "needs_background": "light"
     },
     "output_type": "display_data"
    },
    {
     "data": {
      "image/png": "[encoded data removed]",
      "text/plain": [
       "<Figure size 432x288 with 1 Axes>"
      ]
     },
     "metadata": {
      "needs_background": "light"
     },
     "output_type": "display_data"
    },
    {
     "data": {
      "image/png": "[encoded data removed]",
      "text/plain": [
       "<Figure size 432x288 with 1 Axes>"
      ]
     },
     "metadata": {
      "needs_background": "light"
     },
     "output_type": "display_data"
    },
    {
     "data": {
      "image/png": "[encoded data removed]",
      "text/plain": [
       "<Figure size 432x288 with 1 Axes>"
      ]
     },
     "metadata": {
      "needs_background": "light"
     },
     "output_type": "display_data"
    },
    {
     "data": {
      "image/png": "[encoded data removed]",
      "text/plain": [
       "<Figure size 432x288 with 1 Axes>"
      ]
     },
     "metadata": {
      "needs_background": "light"
     },
     "output_type": "display_data"
    },
    {
     "data": {
      "image/png": "[encoded data removed]",
      "text/plain": [
       "<Figure size 432x288 with 1 Axes>"
      ]
     },
     "metadata": {
      "needs_background": "light"
     },
     "output_type": "display_data"
    },
    {
     "data": {
      "image/png": "[encoded data removed]",
      "text/plain": [
       "<Figure size 432x288 with 1 Axes>"
      ]
     },
     "metadata": {
      "needs_background": "light"
     },
     "output_type": "display_data"
    },
    {
     "data": {
      "image/png": "[encoded data removed]",
      "text/plain": [
       "<Figure size 432x288 with 1 Axes>"
      ]
     },
     "metadata": {
      "needs_background": "light"
     },
     "output_type": "display_data"
    },
    {
     "data": {
      "image/png": "[encoded data removed]",
      "text/plain": [
       "<Figure size 432x288 with 1 Axes>"
      ]
     },
     "metadata": {
      "needs_background": "light"
     },
     "output_type": "display_data"
    },
    {
     "data": {
      "image/png": "[encoded data removed]",
      "text/plain": [
       "<Figure size 432x288 with 1 Axes>"
      ]
     },
     "metadata": {
      "needs_background": "light"
     },
     "output_type": "display_data"
    }
   ],
   "source": [
    "# barplot all category cols\n",
    "for i in range(len(cate_list)):\n",
    "    print(cate_corr(cate_list[i]))"
   ]
  },
  {
   "cell_type": "markdown",
   "metadata": {},
   "source": [
    "# comment \n",
    "#### var9 and var 18 (have the same values)\n",
    "#### var19 and classLabel (the same values)\n",
    "#### var4 and var 5 (have the same values but differnce catefory)"
   ]
  },
  {
   "cell_type": "markdown",
   "metadata": {},
   "source": [
    "### import ML lib and bulid model  "
   ]
  },
  {
   "cell_type": "code",
   "execution_count": 44,
   "metadata": {},
   "outputs": [
    {
     "name": "stdout",
     "output_type": "stream",
     "text": [
      "Collecting imblearn\n",
      "  Downloading https://files.pythonhosted.org/packages/81/a7/4179e6ebfd654bd0eac0b9c06125b8b4c96a9d0a8ff9e9507eb2a26d2d7e/imblearn-0.0-py2.py3-none-any.whl\n",
      "Collecting imbalanced-learn (from imblearn)\n",
      "\u001b[?25l  Downloading https://files.pythonhosted.org/packages/e5/4c/7557e1c2e791bd43878f8c82065bddc5798252084f26ef44527c02262af1/imbalanced_learn-0.4.3-py3-none-any.whl (166kB)\n",
      "\u001b[K    100% |████████████████████████████████| 174kB 17.4MB/s \n",
      "\u001b[?25hRequirement already satisfied: numpy>=1.8.2 in /home/jupyterlab/conda/lib/python3.6/site-packages (from imbalanced-learn->imblearn) (1.15.4)\n",
      "Requirement already satisfied: scikit-learn>=0.20 in /home/jupyterlab/conda/lib/python3.6/site-packages (from imbalanced-learn->imblearn) (0.20.1)\n",
      "Requirement already satisfied: scipy>=0.13.3 in /home/jupyterlab/conda/lib/python3.6/site-packages (from imbalanced-learn->imblearn) (1.1.0)\n",
      "Installing collected packages: imbalanced-learn, imblearn\n",
      "Successfully installed imbalanced-learn-0.4.3 imblearn-0.0\n"
     ]
    }
   ],
   "source": [
    "!pip install imblearn\n"
   ]
  },
  {
   "cell_type": "code",
   "execution_count": 45,
   "metadata": {},
   "outputs": [],
   "source": [
    "#import libs\n",
    "from sklearn.model_selection import train_test_split\n",
    "from sklearn.model_selection import GridSearchCV\n",
    "from sklearn.tree import DecisionTreeClassifier\n",
    "from sklearn import svm\n",
    "from sklearn.neighbors import KNeighborsClassifier\n",
    "from sklearn import metrics\n",
    "from sklearn.linear_model import LogisticRegression\n",
    "from sklearn.metrics import classification_report,confusion_matrix\n",
    "from sklearn.preprocessing import StandardScaler\n",
    "from sklearn.preprocessing import LabelEncoder\n",
    "from sklearn.model_selection import cross_val_score\n",
    "from imblearn.over_sampling import SMOTE\n",
    "\n"
   ]
  },
  {
   "cell_type": "code",
   "execution_count": 46,
   "metadata": {},
   "outputs": [],
   "source": [
    "X= df.drop(['classLabel','variable17','variable18','variable19'],axis=1)"
   ]
  },
  {
   "cell_type": "code",
   "execution_count": 47,
   "metadata": {},
   "outputs": [],
   "source": [
    "label = LabelEncoder()\n",
    "X=X.apply(label.fit_transform)\n"
   ]
  },
  {
   "cell_type": "code",
   "execution_count": 48,
   "metadata": {},
   "outputs": [
    {
     "name": "stdout",
     "output_type": "stream",
     "text": [
      "(3700, 15)\n",
      "(3700,)\n"
     ]
    }
   ],
   "source": [
    "y=df['classLabel']\n",
    "y=np.array(y)\n",
    "print(X.shape)\n",
    "print(y.shape)\n"
   ]
  },
  {
   "cell_type": "code",
   "execution_count": 50,
   "metadata": {},
   "outputs": [],
   "source": [
    "X_train,X_test,y_train,y_test=train_test_split(X, y,test_size=0.20,random_state=42)"
   ]
  },
  {
   "cell_type": "code",
   "execution_count": 51,
   "metadata": {},
   "outputs": [],
   "source": [
    "sm = SMOTE(random_state=42, ratio = 1.0)\n",
    "X_train_res, y_train_res = sm.fit_sample(X_train, y_train)"
   ]
  },
  {
   "cell_type": "code",
   "execution_count": 52,
   "metadata": {},
   "outputs": [
    {
     "name": "stdout",
     "output_type": "stream",
     "text": [
      "(2960, 15)\n",
      "(740, 15)\n",
      "(5510, 15)\n"
     ]
    }
   ],
   "source": [
    "print(X_train.shape)\n",
    "print(X_test.shape)\n",
    "print(X_train_res.shape)"
   ]
  },
  {
   "cell_type": "code",
   "execution_count": 53,
   "metadata": {},
   "outputs": [
    {
     "name": "stdout",
     "output_type": "stream",
     "text": [
      "accuracy_test 0.9027027027027027\n",
      "accuracy_train 0.9344827586206896\n",
      "[[ 53  18]\n",
      " [ 54 615]]\n",
      "              precision    recall  f1-score   support\n",
      "\n",
      "           0       0.50      0.75      0.60        71\n",
      "           1       0.97      0.92      0.94       669\n",
      "\n",
      "   micro avg       0.90      0.90      0.90       740\n",
      "   macro avg       0.73      0.83      0.77       740\n",
      "weighted avg       0.93      0.90      0.91       740\n",
      "\n"
     ]
    }
   ],
   "source": [
    "#model Tree \n",
    "drugTree = DecisionTreeClassifier(criterion=\"entropy\", max_depth =1)\n",
    "drugTree.fit(X_train_res, y_train_res)\n",
    "predTree = drugTree.predict(X_test)\n",
    "print('accuracy_test',metrics.accuracy_score(y_test,predTree))\n",
    "print('accuracy_train',metrics.accuracy_score(y_train_res,drugTree.predict(X_train_res)))\n",
    "print(confusion_matrix(y_test,predTree))\n",
    "print(classification_report(y_test,predTree))\n"
   ]
  },
  {
   "cell_type": "code",
   "execution_count": 54,
   "metadata": {},
   "outputs": [
    {
     "name": "stdout",
     "output_type": "stream",
     "text": [
      "accuracy_test 0.9067567567567567\n",
      "accuracy_train 0.9793918918918919\n",
      "[[  2  69]\n",
      " [  0 669]]\n",
      "              precision    recall  f1-score   support\n",
      "\n",
      "           0       1.00      0.03      0.05        71\n",
      "           1       0.91      1.00      0.95       669\n",
      "\n",
      "   micro avg       0.91      0.91      0.91       740\n",
      "   macro avg       0.95      0.51      0.50       740\n",
      "weighted avg       0.92      0.91      0.86       740\n",
      "\n"
     ]
    }
   ],
   "source": [
    "# #model SVC derop 3 cols\n",
    "clf = svm.SVC(C=.01,kernel='rbf',gamma=.01)\n",
    "clf.fit(X_train_res, y_train_res) \n",
    "predSvc = clf.predict(X_test)\n",
    "print('accuracy_test',metrics.accuracy_score(y_test,predSvc))\n",
    "print('accuracy_train',metrics.accuracy_score(y_train,clf.predict(X_train)))\n",
    "print(confusion_matrix(y_test,predSvc))\n",
    "print(classification_report(y_test,predSvc))\n"
   ]
  },
  {
   "cell_type": "code",
   "execution_count": null,
   "metadata": {},
   "outputs": [],
   "source": []
  },
  {
   "cell_type": "code",
   "execution_count": 55,
   "metadata": {},
   "outputs": [
    {
     "data": {
      "text/html": [
       "<div>\n",
       "<style scoped>\n",
       "    .dataframe tbody tr th:only-of-type {\n",
       "        vertical-align: middle;\n",
       "    }\n",
       "\n",
       "    .dataframe tbody tr th {\n",
       "        vertical-align: top;\n",
       "    }\n",
       "\n",
       "    .dataframe thead th {\n",
       "        text-align: right;\n",
       "    }\n",
       "</style>\n",
       "<table border=\"1\" class=\"dataframe\">\n",
       "  <thead>\n",
       "    <tr style=\"text-align: right;\">\n",
       "      <th></th>\n",
       "      <th>variable1</th>\n",
       "      <th>variable2</th>\n",
       "      <th>variable3</th>\n",
       "      <th>variable4</th>\n",
       "      <th>variable5</th>\n",
       "      <th>variable6</th>\n",
       "      <th>variable7</th>\n",
       "      <th>variable8</th>\n",
       "      <th>variable9</th>\n",
       "      <th>variable10</th>\n",
       "      <th>variable11</th>\n",
       "      <th>variable12</th>\n",
       "      <th>variable13</th>\n",
       "      <th>variable14</th>\n",
       "      <th>variable15</th>\n",
       "      <th>variable17</th>\n",
       "      <th>variable18</th>\n",
       "      <th>variable19</th>\n",
       "      <th>classLabel</th>\n",
       "    </tr>\n",
       "  </thead>\n",
       "  <tbody>\n",
       "    <tr>\n",
       "      <th>0</th>\n",
       "      <td>b</td>\n",
       "      <td>32,33</td>\n",
       "      <td>0,00075</td>\n",
       "      <td>u</td>\n",
       "      <td>g</td>\n",
       "      <td>e</td>\n",
       "      <td>bb</td>\n",
       "      <td>1,585</td>\n",
       "      <td>t</td>\n",
       "      <td>f</td>\n",
       "      <td>0</td>\n",
       "      <td>t</td>\n",
       "      <td>s</td>\n",
       "      <td>420.0</td>\n",
       "      <td>0</td>\n",
       "      <td>4200000.0</td>\n",
       "      <td>NaN</td>\n",
       "      <td>1</td>\n",
       "      <td>no.</td>\n",
       "    </tr>\n",
       "    <tr>\n",
       "      <th>1</th>\n",
       "      <td>b</td>\n",
       "      <td>23,58</td>\n",
       "      <td>0,000179</td>\n",
       "      <td>u</td>\n",
       "      <td>g</td>\n",
       "      <td>c</td>\n",
       "      <td>v</td>\n",
       "      <td>0,54</td>\n",
       "      <td>f</td>\n",
       "      <td>f</td>\n",
       "      <td>0</td>\n",
       "      <td>t</td>\n",
       "      <td>g</td>\n",
       "      <td>136.0</td>\n",
       "      <td>1</td>\n",
       "      <td>1360000.0</td>\n",
       "      <td>NaN</td>\n",
       "      <td>0</td>\n",
       "      <td>no.</td>\n",
       "    </tr>\n",
       "    <tr>\n",
       "      <th>2</th>\n",
       "      <td>b</td>\n",
       "      <td>36,42</td>\n",
       "      <td>7,5e-05</td>\n",
       "      <td>y</td>\n",
       "      <td>p</td>\n",
       "      <td>d</td>\n",
       "      <td>v</td>\n",
       "      <td>0,585</td>\n",
       "      <td>f</td>\n",
       "      <td>f</td>\n",
       "      <td>0</td>\n",
       "      <td>f</td>\n",
       "      <td>g</td>\n",
       "      <td>240.0</td>\n",
       "      <td>3</td>\n",
       "      <td>2400000.0</td>\n",
       "      <td>NaN</td>\n",
       "      <td>1</td>\n",
       "      <td>no.</td>\n",
       "    </tr>\n",
       "    <tr>\n",
       "      <th>3</th>\n",
       "      <td>b</td>\n",
       "      <td>18,42</td>\n",
       "      <td>0,0010415</td>\n",
       "      <td>y</td>\n",
       "      <td>p</td>\n",
       "      <td>aa</td>\n",
       "      <td>v</td>\n",
       "      <td>0,125</td>\n",
       "      <td>t</td>\n",
       "      <td>f</td>\n",
       "      <td>0</td>\n",
       "      <td>f</td>\n",
       "      <td>g</td>\n",
       "      <td>120.0</td>\n",
       "      <td>375</td>\n",
       "      <td>1200000.0</td>\n",
       "      <td>NaN</td>\n",
       "      <td>0</td>\n",
       "      <td>no.</td>\n",
       "    </tr>\n",
       "    <tr>\n",
       "      <th>4</th>\n",
       "      <td>b</td>\n",
       "      <td>24,5</td>\n",
       "      <td>0,0013335</td>\n",
       "      <td>y</td>\n",
       "      <td>p</td>\n",
       "      <td>aa</td>\n",
       "      <td>v</td>\n",
       "      <td>0,04</td>\n",
       "      <td>f</td>\n",
       "      <td>f</td>\n",
       "      <td>0</td>\n",
       "      <td>t</td>\n",
       "      <td>g</td>\n",
       "      <td>120.0</td>\n",
       "      <td>475</td>\n",
       "      <td>1200000.0</td>\n",
       "      <td>f</td>\n",
       "      <td>1</td>\n",
       "      <td>no.</td>\n",
       "    </tr>\n",
       "  </tbody>\n",
       "</table>\n",
       "</div>"
      ],
      "text/plain": [
       "  variable1 variable2  variable3 variable4 variable5 variable6 variable7  \\\n",
       "0         b     32,33    0,00075         u         g         e        bb   \n",
       "1         b     23,58   0,000179         u         g         c         v   \n",
       "2         b     36,42    7,5e-05         y         p         d         v   \n",
       "3         b     18,42  0,0010415         y         p        aa         v   \n",
       "4         b      24,5  0,0013335         y         p        aa         v   \n",
       "\n",
       "  variable8 variable9 variable10  variable11 variable12 variable13  \\\n",
       "0     1,585         t          f           0          t          s   \n",
       "1      0,54         f          f           0          t          g   \n",
       "2     0,585         f          f           0          f          g   \n",
       "3     0,125         t          f           0          f          g   \n",
       "4      0,04         f          f           0          t          g   \n",
       "\n",
       "   variable14  variable15  variable17 variable18  variable19 classLabel  \n",
       "0       420.0           0   4200000.0        NaN           1        no.  \n",
       "1       136.0           1   1360000.0        NaN           0        no.  \n",
       "2       240.0           3   2400000.0        NaN           1        no.  \n",
       "3       120.0         375   1200000.0        NaN           0        no.  \n",
       "4       120.0         475   1200000.0          f           1        no.  "
      ]
     },
     "execution_count": 55,
     "metadata": {},
     "output_type": "execute_result"
    }
   ],
   "source": [
    "df_val= pd.read_csv('validation.csv',delimiter=\";\")\n",
    "df_val.head()"
   ]
  },
  {
   "cell_type": "markdown",
   "metadata": {},
   "source": [
    "#### Read validation data and Applied the model\n"
   ]
  },
  {
   "cell_type": "code",
   "execution_count": 34,
   "metadata": {},
   "outputs": [
    {
     "data": {
      "text/html": [
       "<div>\n",
       "<style scoped>\n",
       "    .dataframe tbody tr th:only-of-type {\n",
       "        vertical-align: middle;\n",
       "    }\n",
       "\n",
       "    .dataframe tbody tr th {\n",
       "        vertical-align: top;\n",
       "    }\n",
       "\n",
       "    .dataframe thead th {\n",
       "        text-align: right;\n",
       "    }\n",
       "</style>\n",
       "<table border=\"1\" class=\"dataframe\">\n",
       "  <thead>\n",
       "    <tr style=\"text-align: right;\">\n",
       "      <th></th>\n",
       "      <th>variable1</th>\n",
       "      <th>variable2</th>\n",
       "      <th>variable3</th>\n",
       "      <th>variable4</th>\n",
       "      <th>variable5</th>\n",
       "      <th>variable6</th>\n",
       "      <th>variable7</th>\n",
       "      <th>variable8</th>\n",
       "      <th>variable9</th>\n",
       "      <th>variable10</th>\n",
       "      <th>variable11</th>\n",
       "      <th>variable12</th>\n",
       "      <th>variable13</th>\n",
       "      <th>variable14</th>\n",
       "      <th>variable15</th>\n",
       "      <th>variable17</th>\n",
       "      <th>variable18</th>\n",
       "      <th>variable19</th>\n",
       "      <th>classLabel</th>\n",
       "    </tr>\n",
       "  </thead>\n",
       "  <tbody>\n",
       "    <tr>\n",
       "      <th>unique</th>\n",
       "      <td>[a, b]\n",
       "Categories (2, object): [a, b]</td>\n",
       "      <td>[1792.0, 1692.0, 3125.0, 4817.0, 3233.0, 3483....</td>\n",
       "      <td>[0.00054, 0.00335, 1125.0, 1335.0, 35.0, 125.0...</td>\n",
       "      <td>[u, y, l]\n",
       "Categories (3, object): [u, y, l]</td>\n",
       "      <td>[g, p, gg]\n",
       "Categories (3, object): [g, p, gg]</td>\n",
       "      <td>[c, k, ff, i, j, ..., cc, aa, r, x, e]\n",
       "Length:...</td>\n",
       "      <td>[v, ff, o, h, j, bb, n, z, dd]\n",
       "Categories (9, ...</td>\n",
       "      <td>[175.0, 29.0, 0.0, 335.0, 5.0, 25.0, 1085.0, 1...</td>\n",
       "      <td>[f, t]\n",
       "Categories (2, object): [f, t]</td>\n",
       "      <td>[t, f]\n",
       "Categories (2, object): [t, f]</td>\n",
       "      <td>[1, 0, 2, 3, 5, 15, 20, 11, 4, 12, 7, 9, 14, 6...</td>\n",
       "      <td>[t, f]\n",
       "Categories (2, object): [t, f]</td>\n",
       "      <td>[g, s, p]\n",
       "Categories (3, object): [g, s, p]</td>\n",
       "      <td>[80.0, 200.0, 96.0, 0.0, 232.0, 160.0, 276.0, ...</td>\n",
       "      <td>[5, 0, 19, 120, 1, 204, 140, 13, 20, 21, 18, 4...</td>\n",
       "      <td>[800000.0, 2000000.0, 960000.0, 0.0, 2320000.0...</td>\n",
       "      <td>[t, f]\n",
       "Categories (2, object): [t, f]</td>\n",
       "      <td>[0, 1]\n",
       "Categories (2, int64): [0, 1]</td>\n",
       "      <td>[0, 1]\n",
       "Categories (2, object): [0, 1]</td>\n",
       "    </tr>\n",
       "  </tbody>\n",
       "</table>\n",
       "</div>"
      ],
      "text/plain": [
       "                                    variable1  \\\n",
       "unique  [a, b]\n",
       "Categories (2, object): [a, b]   \n",
       "\n",
       "                                                variable2  \\\n",
       "unique  [1792.0, 1692.0, 3125.0, 4817.0, 3233.0, 3483....   \n",
       "\n",
       "                                                variable3  \\\n",
       "unique  [0.00054, 0.00335, 1125.0, 1335.0, 35.0, 125.0...   \n",
       "\n",
       "                                          variable4  \\\n",
       "unique  [u, y, l]\n",
       "Categories (3, object): [u, y, l]   \n",
       "\n",
       "                                            variable5  \\\n",
       "unique  [g, p, gg]\n",
       "Categories (3, object): [g, p, gg]   \n",
       "\n",
       "                                                variable6  \\\n",
       "unique  [c, k, ff, i, j, ..., cc, aa, r, x, e]\n",
       "Length:...   \n",
       "\n",
       "                                                variable7  \\\n",
       "unique  [v, ff, o, h, j, bb, n, z, dd]\n",
       "Categories (9, ...   \n",
       "\n",
       "                                                variable8  \\\n",
       "unique  [175.0, 29.0, 0.0, 335.0, 5.0, 25.0, 1085.0, 1...   \n",
       "\n",
       "                                    variable9  \\\n",
       "unique  [f, t]\n",
       "Categories (2, object): [f, t]   \n",
       "\n",
       "                                   variable10  \\\n",
       "unique  [t, f]\n",
       "Categories (2, object): [t, f]   \n",
       "\n",
       "                                               variable11  \\\n",
       "unique  [1, 0, 2, 3, 5, 15, 20, 11, 4, 12, 7, 9, 14, 6...   \n",
       "\n",
       "                                   variable12  \\\n",
       "unique  [t, f]\n",
       "Categories (2, object): [t, f]   \n",
       "\n",
       "                                         variable13  \\\n",
       "unique  [g, s, p]\n",
       "Categories (3, object): [g, s, p]   \n",
       "\n",
       "                                               variable14  \\\n",
       "unique  [80.0, 200.0, 96.0, 0.0, 232.0, 160.0, 276.0, ...   \n",
       "\n",
       "                                               variable15  \\\n",
       "unique  [5, 0, 19, 120, 1, 204, 140, 13, 20, 21, 18, 4...   \n",
       "\n",
       "                                               variable17  \\\n",
       "unique  [800000.0, 2000000.0, 960000.0, 0.0, 2320000.0...   \n",
       "\n",
       "                                   variable18  \\\n",
       "unique  [t, f]\n",
       "Categories (2, object): [t, f]   \n",
       "\n",
       "                                  variable19  \\\n",
       "unique  [0, 1]\n",
       "Categories (2, int64): [0, 1]   \n",
       "\n",
       "                                   classLabel  \n",
       "unique  [0, 1]\n",
       "Categories (2, object): [0, 1]  "
      ]
     },
     "execution_count": 34,
     "metadata": {},
     "output_type": "execute_result"
    }
   ],
   "source": [
    "df.agg(['unique'])"
   ]
  },
  {
   "cell_type": "code",
   "execution_count": 56,
   "metadata": {},
   "outputs": [
    {
     "data": {
      "text/html": [
       "<div>\n",
       "<style scoped>\n",
       "    .dataframe tbody tr th:only-of-type {\n",
       "        vertical-align: middle;\n",
       "    }\n",
       "\n",
       "    .dataframe tbody tr th {\n",
       "        vertical-align: top;\n",
       "    }\n",
       "\n",
       "    .dataframe thead th {\n",
       "        text-align: right;\n",
       "    }\n",
       "</style>\n",
       "<table border=\"1\" class=\"dataframe\">\n",
       "  <thead>\n",
       "    <tr style=\"text-align: right;\">\n",
       "      <th></th>\n",
       "      <th>variable1</th>\n",
       "      <th>variable2</th>\n",
       "      <th>variable3</th>\n",
       "      <th>variable4</th>\n",
       "      <th>variable5</th>\n",
       "      <th>variable6</th>\n",
       "      <th>variable7</th>\n",
       "      <th>variable8</th>\n",
       "      <th>variable9</th>\n",
       "      <th>variable10</th>\n",
       "      <th>variable11</th>\n",
       "      <th>variable12</th>\n",
       "      <th>variable13</th>\n",
       "      <th>variable14</th>\n",
       "      <th>variable15</th>\n",
       "      <th>variable17</th>\n",
       "      <th>variable18</th>\n",
       "      <th>variable19</th>\n",
       "      <th>classLabel</th>\n",
       "    </tr>\n",
       "  </thead>\n",
       "  <tbody>\n",
       "    <tr>\n",
       "      <th>unique</th>\n",
       "      <td>[b, a, nan]</td>\n",
       "      <td>[32,33, 23,58, 36,42, 18,42, 24,5, 39,08, 23,4...</td>\n",
       "      <td>[0,00075, 0,000179, 7,5e-05, 0,0010415, 0,0013...</td>\n",
       "      <td>[u, y, nan]</td>\n",
       "      <td>[g, p, nan]</td>\n",
       "      <td>[e, c, d, aa, m, k, ff, W, q, i, x, cc, nan, j]</td>\n",
       "      <td>[bb, v, ff, z, h, nan, dd, n, j]</td>\n",
       "      <td>[1,585, 0,54, 0,585, 0,125, 0,04, 3, 0,5, 2, 0...</td>\n",
       "      <td>[t, f]</td>\n",
       "      <td>[f, t]</td>\n",
       "      <td>[0, 1, 2, 20, 3, 5, 9, 11, 17, 10, 4, 6, 14, 1...</td>\n",
       "      <td>[t, f]</td>\n",
       "      <td>[s, g, p]</td>\n",
       "      <td>[420.0, 136.0, 240.0, 120.0, 480.0, 280.0, 460...</td>\n",
       "      <td>[0, 1, 3, 375, 475, 68, 350, 126, 20, 5552, 50...</td>\n",
       "      <td>[4200000.0, 1360000.0, 2400000.0, 1200000.0, 4...</td>\n",
       "      <td>[nan, f, t]</td>\n",
       "      <td>[1, 0]</td>\n",
       "      <td>[no., yes.]</td>\n",
       "    </tr>\n",
       "  </tbody>\n",
       "</table>\n",
       "</div>"
      ],
      "text/plain": [
       "          variable1                                          variable2  \\\n",
       "unique  [b, a, nan]  [32,33, 23,58, 36,42, 18,42, 24,5, 39,08, 23,4...   \n",
       "\n",
       "                                                variable3    variable4  \\\n",
       "unique  [0,00075, 0,000179, 7,5e-05, 0,0010415, 0,0013...  [u, y, nan]   \n",
       "\n",
       "          variable5                                        variable6  \\\n",
       "unique  [g, p, nan]  [e, c, d, aa, m, k, ff, W, q, i, x, cc, nan, j]   \n",
       "\n",
       "                               variable7  \\\n",
       "unique  [bb, v, ff, z, h, nan, dd, n, j]   \n",
       "\n",
       "                                                variable8 variable9  \\\n",
       "unique  [1,585, 0,54, 0,585, 0,125, 0,04, 3, 0,5, 2, 0...    [t, f]   \n",
       "\n",
       "       variable10                                         variable11  \\\n",
       "unique     [f, t]  [0, 1, 2, 20, 3, 5, 9, 11, 17, 10, 4, 6, 14, 1...   \n",
       "\n",
       "       variable12 variable13  \\\n",
       "unique     [t, f]  [s, g, p]   \n",
       "\n",
       "                                               variable14  \\\n",
       "unique  [420.0, 136.0, 240.0, 120.0, 480.0, 280.0, 460...   \n",
       "\n",
       "                                               variable15  \\\n",
       "unique  [0, 1, 3, 375, 475, 68, 350, 126, 20, 5552, 50...   \n",
       "\n",
       "                                               variable17   variable18  \\\n",
       "unique  [4200000.0, 1360000.0, 2400000.0, 1200000.0, 4...  [nan, f, t]   \n",
       "\n",
       "       variable19   classLabel  \n",
       "unique     [1, 0]  [no., yes.]  "
      ]
     },
     "execution_count": 56,
     "metadata": {},
     "output_type": "execute_result"
    }
   ],
   "source": [
    "df_val.agg(['unique'])"
   ]
  },
  {
   "cell_type": "code",
   "execution_count": 57,
   "metadata": {},
   "outputs": [
    {
     "data": {
      "text/plain": [
       "variable1       3\n",
       "variable2       3\n",
       "variable3       0\n",
       "variable4       2\n",
       "variable5       2\n",
       "variable6       3\n",
       "variable7       3\n",
       "variable8       0\n",
       "variable9       0\n",
       "variable10      0\n",
       "variable11      0\n",
       "variable12      0\n",
       "variable13      0\n",
       "variable14      3\n",
       "variable15      0\n",
       "variable17      3\n",
       "variable18    111\n",
       "variable19      0\n",
       "classLabel      0\n",
       "dtype: int64"
      ]
     },
     "execution_count": 57,
     "metadata": {},
     "output_type": "execute_result"
    }
   ],
   "source": [
    "#Null_values\n",
    "df_val.isnull().sum()"
   ]
  },
  {
   "cell_type": "code",
   "execution_count": 58,
   "metadata": {},
   "outputs": [
    {
     "name": "stdout",
     "output_type": "stream",
     "text": [
      "<class 'pandas.core.frame.DataFrame'>\n",
      "RangeIndex: 200 entries, 0 to 199\n",
      "Data columns (total 19 columns):\n",
      "variable1     197 non-null object\n",
      "variable2     197 non-null object\n",
      "variable3     200 non-null object\n",
      "variable4     198 non-null object\n",
      "variable5     198 non-null object\n",
      "variable6     197 non-null object\n",
      "variable7     197 non-null object\n",
      "variable8     200 non-null object\n",
      "variable9     200 non-null object\n",
      "variable10    200 non-null object\n",
      "variable11    200 non-null int64\n",
      "variable12    200 non-null object\n",
      "variable13    200 non-null object\n",
      "variable14    197 non-null float64\n",
      "variable15    200 non-null int64\n",
      "variable17    197 non-null float64\n",
      "variable18    89 non-null object\n",
      "variable19    200 non-null int64\n",
      "classLabel    200 non-null object\n",
      "dtypes: float64(2), int64(3), object(14)\n",
      "memory usage: 29.8+ KB\n"
     ]
    }
   ],
   "source": [
    "df_val.info()"
   ]
  },
  {
   "cell_type": "code",
   "execution_count": 59,
   "metadata": {},
   "outputs": [],
   "source": [
    "# #replace \",\" to convert to float.\n",
    "df_val['variable2']=df_val['variable2'].str.replace(',', '').astype(float)\n",
    "df_val['variable3']=df_val['variable3'].str.replace(',', '').astype(float)\n",
    "df_val['variable8']=df_val['variable8'].str.replace(',', '').astype(float)\n",
    "##fill the nan value contionus with mean.\n",
    "values_mean_val ={'variable2':df_val['variable2'].mean(),'variable14':df_val['variable14'].mean(),'variable17':df_val['variable17'].mean()}\n",
    "df_val=df_val.fillna(value=values_mean_val)\n",
    "\n"
   ]
  },
  {
   "cell_type": "code",
   "execution_count": 60,
   "metadata": {},
   "outputs": [],
   "source": [
    "# convert the datatype object to category\n",
    "df_val=df_val.astype({'variable1':'category','variable4':'category','variable5':'category','variable6':'category','variable7':'category'\n",
    "         ,'variable9':'category','variable10':'category'\n",
    "                 ,'variable12':'category','variable13':'category','variable18':'category','variable19':'category'})\n",
    "## fill nan values in categort cols with mode/.\n",
    "values_val ={'variable1':df_val['variable1'].mode()[0]\n",
    ",'variable4':df_val['variable4'].mode()[0],'variable5':df_val['variable5'].mode()[0]\n",
    "         ,'variable6':df_val['variable6'].mode()[0],'variable7':df_val['variable7'].mode()[0]\n",
    "         ,'variable18':df_val['variable18'].mode()[0]}\n",
    "df_val=df_val.fillna(value=values_val)\n"
   ]
  },
  {
   "cell_type": "code",
   "execution_count": 61,
   "metadata": {},
   "outputs": [],
   "source": [
    "df_val['classLabel'].replace('no.','0',inplace=True)\n",
    "df_val['classLabel'].replace('yes.','1',inplace=True)\n",
    "df_val['classLabel'] =df_val['classLabel'].astype('category')\n"
   ]
  },
  {
   "cell_type": "code",
   "execution_count": null,
   "metadata": {},
   "outputs": [],
   "source": [
    "X_val= df_val.drop(['classLabel','variable17','variable18','variable19'],axis=1)\n",
    "label = LabelEncoder()\n",
    "X_val=X_val.apply(label.fit_transform)\n",
    "y_val=df_val['classLabel']\n",
    "y_val=np.array(y_val)\n",
    "\n",
    "print(X_val.shape)\n"
   ]
  },
  {
   "cell_type": "code",
   "execution_count": 63,
   "metadata": {},
   "outputs": [
    {
     "name": "stdout",
     "output_type": "stream",
     "text": [
      "accuracy_test 0.85\n",
      "[[81 26]\n",
      " [ 4 89]]\n",
      "              precision    recall  f1-score   support\n",
      "\n",
      "           0       0.95      0.76      0.84       107\n",
      "           1       0.77      0.96      0.86        93\n",
      "\n",
      "   micro avg       0.85      0.85      0.85       200\n",
      "   macro avg       0.86      0.86      0.85       200\n",
      "weighted avg       0.87      0.85      0.85       200\n",
      "\n"
     ]
    }
   ],
   "source": [
    "##predTree with max =1 \n",
    "predTree_val = drugTree.predict(X_val)\n",
    "print('accuracy_test',metrics.accuracy_score(y_val,predTree_val))\n",
    "print(confusion_matrix(y_val,predTree_val))\n",
    "print(classification_report(y_val,predTree_val))\n"
   ]
  },
  {
   "cell_type": "code",
   "execution_count": 77,
   "metadata": {},
   "outputs": [
    {
     "name": "stdout",
     "output_type": "stream",
     "text": [
      "accuracy_test 0.47\n",
      "[[  3 104]\n",
      " [  2  91]]\n",
      "              precision    recall  f1-score   support\n",
      "\n",
      "           0       0.60      0.03      0.05       107\n",
      "           1       0.47      0.98      0.63        93\n",
      "\n",
      "   micro avg       0.47      0.47      0.47       200\n",
      "   macro avg       0.53      0.50      0.34       200\n",
      "weighted avg       0.54      0.47      0.32       200\n",
      "\n"
     ]
    }
   ],
   "source": [
    "# clf with c= .1 and gamm=.1\n",
    "predSvc_val = clf.predict(X_val)\n",
    "print('accuracy_test',metrics.accuracy_score(y_val,predSvc_val))\n",
    "print(confusion_matrix(y_val,predSvc_val))\n",
    "print(classification_report(y_val,predSvc_val))\n"
   ]
  },
  {
   "cell_type": "code",
   "execution_count": 72,
   "metadata": {},
   "outputs": [
    {
     "name": "stdout",
     "output_type": "stream",
     "text": [
      "Fitting 3 folds for each of 3 candidates, totalling 9 fits\n",
      "[CV] criterion=entropy, max_depth=1 ..................................\n",
      "[CV]  criterion=entropy, max_depth=1, score=0.9249183895538629, total=   0.0s\n",
      "[CV] criterion=entropy, max_depth=1 ..................................\n",
      "[CV]  criterion=entropy, max_depth=1, score=0.9417211328976035, total=   0.0s\n",
      "[CV] criterion=entropy, max_depth=1 ..................................\n",
      "[CV]  criterion=entropy, max_depth=1, score=0.9368191721132898, total=   0.0s\n",
      "[CV] criterion=entropy, max_depth=2 ..................................\n",
      "[CV]  criterion=entropy, max_depth=2, score=0.9319912948857454, total=   0.0s\n",
      "[CV] criterion=entropy, max_depth=2 ..................................\n",
      "[CV]  criterion=entropy, max_depth=2, score=0.9498910675381264, total=   0.0s\n",
      "[CV] criterion=entropy, max_depth=2 ..................................\n",
      "[CV]  criterion=entropy, max_depth=2, score=0.9444444444444444, total=   0.0s\n",
      "[CV] criterion=entropy, max_depth=4 ..................................\n",
      "[CV]  criterion=entropy, max_depth=4, score=0.9439608269858542, total=   0.0s\n",
      "[CV] criterion=entropy, max_depth=4 ..................................\n"
     ]
    },
    {
     "name": "stderr",
     "output_type": "stream",
     "text": [
      "[Parallel(n_jobs=1)]: Using backend SequentialBackend with 1 concurrent workers.\n",
      "[Parallel(n_jobs=1)]: Done   1 out of   1 | elapsed:    0.0s remaining:    0.0s\n",
      "[Parallel(n_jobs=1)]: Done   2 out of   2 | elapsed:    0.0s remaining:    0.0s\n",
      "[Parallel(n_jobs=1)]: Done   3 out of   3 | elapsed:    0.1s remaining:    0.0s\n",
      "[Parallel(n_jobs=1)]: Done   4 out of   4 | elapsed:    0.1s remaining:    0.0s\n"
     ]
    },
    {
     "name": "stdout",
     "output_type": "stream",
     "text": [
      "[CV]  criterion=entropy, max_depth=4, score=0.960239651416122, total=   0.0s\n",
      "[CV] criterion=entropy, max_depth=4 ..................................\n",
      "[CV]  criterion=entropy, max_depth=4, score=0.9526143790849673, total=   0.0s\n",
      "accuracy_test 0.9283783783783783\n",
      "accuracy_train 0.9542649727767695\n",
      "[[ 53  18]\n",
      " [ 35 634]]\n",
      "              precision    recall  f1-score   support\n",
      "\n",
      "           0       0.60      0.75      0.67        71\n",
      "           1       0.97      0.95      0.96       669\n",
      "\n",
      "   micro avg       0.93      0.93      0.93       740\n",
      "   macro avg       0.79      0.85      0.81       740\n",
      "weighted avg       0.94      0.93      0.93       740\n",
      "\n",
      "{'criterion': 'entropy', 'max_depth': 4}\n"
     ]
    },
    {
     "name": "stderr",
     "output_type": "stream",
     "text": [
      "[Parallel(n_jobs=1)]: Done   9 out of   9 | elapsed:    0.2s finished\n"
     ]
    }
   ],
   "source": [
    "param_grid = {'max_depth': [1,2,4], 'criterion': ['entropy']}\n",
    "model= DecisionTreeClassifier()\n",
    "# drugTree = DecisionTreeClassifier(criterion=\"entropy\", max_depth =5)\n",
    "\n",
    "grid= GridSearchCV(model,param_grid,refit=True,verbose=5)\n",
    "# May take awhile!\n",
    "test=grid.fit(X_train_res, y_train_res)\n",
    "grid_predictions= grid.predict(X_test)\n",
    "\n",
    "print('accuracy_test',metrics.accuracy_score(y_test, grid_predictions))\n",
    "print('accuracy_train',metrics.accuracy_score(y_train_res,grid.predict(X_train_res)))\n",
    "print(confusion_matrix(y_test,grid_predictions))\n",
    "print(classification_report(y_test,grid_predictions))\n",
    "print(grid.best_params_)"
   ]
  },
  {
   "cell_type": "code",
   "execution_count": 73,
   "metadata": {},
   "outputs": [
    {
     "name": "stdout",
     "output_type": "stream",
     "text": [
      "accuracy_train 0.6\n",
      "[[29 78]\n",
      " [ 2 91]]\n",
      "              precision    recall  f1-score   support\n",
      "\n",
      "           0       0.94      0.27      0.42       107\n",
      "           1       0.54      0.98      0.69        93\n",
      "\n",
      "   micro avg       0.60      0.60      0.60       200\n",
      "   macro avg       0.74      0.62      0.56       200\n",
      "weighted avg       0.75      0.60      0.55       200\n",
      "\n"
     ]
    }
   ],
   "source": [
    "grid_predictions_val = grid.predict(X_val)\n",
    "print('accuracy_train',metrics.accuracy_score(y_val,grid_predictions_val))\n",
    "print(confusion_matrix(y_val,grid_predictions_val))\n",
    "print(classification_report(y_val,grid_predictions_val))\n",
    "\n"
   ]
  },
  {
   "cell_type": "code",
   "execution_count": 74,
   "metadata": {},
   "outputs": [
    {
     "name": "stdout",
     "output_type": "stream",
     "text": [
      "Fitting 3 folds for each of 10 candidates, totalling 30 fits\n",
      "[CV] C=0.1, gamma=0.01, kernel=rbf ...................................\n",
      "[CV] .................... C=0.1, gamma=0.01, kernel=rbf, total=   0.1s\n",
      "[CV] C=0.1, gamma=0.01, kernel=rbf ...................................\n"
     ]
    },
    {
     "name": "stderr",
     "output_type": "stream",
     "text": [
      "[Parallel(n_jobs=1)]: Using backend SequentialBackend with 1 concurrent workers.\n",
      "[Parallel(n_jobs=1)]: Done   1 out of   1 | elapsed:    0.2s remaining:    0.0s\n"
     ]
    },
    {
     "name": "stdout",
     "output_type": "stream",
     "text": [
      "[CV] .................... C=0.1, gamma=0.01, kernel=rbf, total=   0.1s\n",
      "[CV] C=0.1, gamma=0.01, kernel=rbf ...................................\n",
      "[CV] .................... C=0.1, gamma=0.01, kernel=rbf, total=   0.1s\n",
      "[CV] C=0.1, gamma=0.1, kernel=rbf ....................................\n",
      "[CV] ..................... C=0.1, gamma=0.1, kernel=rbf, total=   0.1s\n",
      "[CV] C=0.1, gamma=0.1, kernel=rbf ....................................\n",
      "[CV] ..................... C=0.1, gamma=0.1, kernel=rbf, total=   0.1s\n",
      "[CV] C=0.1, gamma=0.1, kernel=rbf ....................................\n",
      "[CV] ..................... C=0.1, gamma=0.1, kernel=rbf, total=   0.1s\n",
      "[CV] C=0.01, gamma=0.01, kernel=rbf ..................................\n",
      "[CV] ................... C=0.01, gamma=0.01, kernel=rbf, total=   0.1s\n",
      "[CV] C=0.01, gamma=0.01, kernel=rbf ..................................\n",
      "[CV] ................... C=0.01, gamma=0.01, kernel=rbf, total=   0.1s\n",
      "[CV] C=0.01, gamma=0.01, kernel=rbf ..................................\n",
      "[CV] ................... C=0.01, gamma=0.01, kernel=rbf, total=   0.1s\n",
      "[CV] C=0.01, gamma=0.1, kernel=rbf ...................................\n",
      "[CV] .................... C=0.01, gamma=0.1, kernel=rbf, total=   0.1s\n",
      "[CV] C=0.01, gamma=0.1, kernel=rbf ...................................\n",
      "[CV] .................... C=0.01, gamma=0.1, kernel=rbf, total=   0.1s\n",
      "[CV] C=0.01, gamma=0.1, kernel=rbf ...................................\n",
      "[CV] .................... C=0.01, gamma=0.1, kernel=rbf, total=   0.1s\n",
      "[CV] C=0.001, gamma=0.01, kernel=rbf .................................\n",
      "[CV] .................. C=0.001, gamma=0.01, kernel=rbf, total=   0.1s\n",
      "[CV] C=0.001, gamma=0.01, kernel=rbf .................................\n",
      "[CV] .................. C=0.001, gamma=0.01, kernel=rbf, total=   0.1s\n",
      "[CV] C=0.001, gamma=0.01, kernel=rbf .................................\n",
      "[CV] .................. C=0.001, gamma=0.01, kernel=rbf, total=   0.1s\n",
      "[CV] C=0.001, gamma=0.1, kernel=rbf ..................................\n",
      "[CV] ................... C=0.001, gamma=0.1, kernel=rbf, total=   0.1s\n",
      "[CV] C=0.001, gamma=0.1, kernel=rbf ..................................\n",
      "[CV] ................... C=0.001, gamma=0.1, kernel=rbf, total=   0.1s\n",
      "[CV] C=0.001, gamma=0.1, kernel=rbf ..................................\n",
      "[CV] ................... C=0.001, gamma=0.1, kernel=rbf, total=   0.1s\n",
      "[CV] C=0.3, gamma=0.01, kernel=rbf ...................................\n",
      "[CV] .................... C=0.3, gamma=0.01, kernel=rbf, total=   0.1s\n",
      "[CV] C=0.3, gamma=0.01, kernel=rbf ...................................\n",
      "[CV] .................... C=0.3, gamma=0.01, kernel=rbf, total=   0.1s\n",
      "[CV] C=0.3, gamma=0.01, kernel=rbf ...................................\n",
      "[CV] .................... C=0.3, gamma=0.01, kernel=rbf, total=   0.1s\n",
      "[CV] C=0.3, gamma=0.1, kernel=rbf ....................................\n",
      "[CV] ..................... C=0.3, gamma=0.1, kernel=rbf, total=   0.1s\n",
      "[CV] C=0.3, gamma=0.1, kernel=rbf ....................................\n",
      "[CV] ..................... C=0.3, gamma=0.1, kernel=rbf, total=   0.1s\n",
      "[CV] C=0.3, gamma=0.1, kernel=rbf ....................................\n",
      "[CV] ..................... C=0.3, gamma=0.1, kernel=rbf, total=   0.1s\n",
      "[CV] C=0.5, gamma=0.01, kernel=rbf ...................................\n",
      "[CV] .................... C=0.5, gamma=0.01, kernel=rbf, total=   0.1s\n",
      "[CV] C=0.5, gamma=0.01, kernel=rbf ...................................\n",
      "[CV] .................... C=0.5, gamma=0.01, kernel=rbf, total=   0.1s\n",
      "[CV] C=0.5, gamma=0.01, kernel=rbf ...................................\n",
      "[CV] .................... C=0.5, gamma=0.01, kernel=rbf, total=   0.1s\n",
      "[CV] C=0.5, gamma=0.1, kernel=rbf ....................................\n",
      "[CV] ..................... C=0.5, gamma=0.1, kernel=rbf, total=   0.1s\n",
      "[CV] C=0.5, gamma=0.1, kernel=rbf ....................................\n",
      "[CV] ..................... C=0.5, gamma=0.1, kernel=rbf, total=   0.1s\n",
      "[CV] C=0.5, gamma=0.1, kernel=rbf ....................................\n",
      "[CV] ..................... C=0.5, gamma=0.1, kernel=rbf, total=   0.1s\n",
      "accuracy_test 0.904054054054054\n"
     ]
    },
    {
     "name": "stderr",
     "output_type": "stream",
     "text": [
      "[Parallel(n_jobs=1)]: Done  30 out of  30 | elapsed:    3.9s finished\n"
     ]
    },
    {
     "name": "stdout",
     "output_type": "stream",
     "text": [
      "accuracy_train 0.9307432432432432\n",
      "[[  0  71]\n",
      " [  0 669]]\n",
      "              precision    recall  f1-score   support\n",
      "\n",
      "           0       0.00      0.00      0.00        71\n",
      "           1       0.90      1.00      0.95       669\n",
      "\n",
      "   micro avg       0.90      0.90      0.90       740\n",
      "   macro avg       0.45      0.50      0.47       740\n",
      "weighted avg       0.82      0.90      0.86       740\n",
      "\n",
      "{'C': 0.1, 'gamma': 0.01, 'kernel': 'rbf'}\n"
     ]
    }
   ],
   "source": [
    "param_grid_svc = {'C': [.1,.01,.001,.3,.5], 'gamma': [.01,.1], 'kernel': ['rbf']}\n",
    "model_svc = svm.SVC()\n",
    "\n",
    "grid_svc = GridSearchCV(model_svc,param_grid_svc,refit=True,verbose=2)\n",
    "# May take awhile!\n",
    "test=grid_svc.fit(X_train,y_train)\n",
    "grid_predictions_svc = grid_svc.predict(X_test)\n",
    "\n",
    "print('accuracy_test',metrics.accuracy_score(y_test, grid_predictions_svc))\n",
    "print('accuracy_train',metrics.accuracy_score(y_train,grid_svc.predict(X_train)))\n",
    "print(confusion_matrix(y_test,grid_predictions_svc))\n",
    "print(classification_report(y_test,grid_predictions_svc))\n",
    "print(grid_svc.best_params_)"
   ]
  },
  {
   "cell_type": "code",
   "execution_count": 78,
   "metadata": {},
   "outputs": [
    {
     "name": "stdout",
     "output_type": "stream",
     "text": [
      "accuracy_train 0.465\n",
      "[[  0 107]\n",
      " [  0  93]]\n",
      "              precision    recall  f1-score   support\n",
      "\n",
      "           0       0.00      0.00      0.00       107\n",
      "           1       0.47      1.00      0.63        93\n",
      "\n",
      "   micro avg       0.47      0.47      0.47       200\n",
      "   macro avg       0.23      0.50      0.32       200\n",
      "weighted avg       0.22      0.47      0.30       200\n",
      "\n"
     ]
    }
   ],
   "source": [
    "grid_predictions_SVC_val = grid_svc.predict(X_val)\n",
    "print('accuracy_train',metrics.accuracy_score(y_val,grid_predictions_SVC_val))\n",
    "print(confusion_matrix(y_val,grid_predictions_SVC_val))\n",
    "print(classification_report(y_val,grid_predictions_SVC_val))\n",
    "\n"
   ]
  },
  {
   "cell_type": "code",
   "execution_count": null,
   "metadata": {},
   "outputs": [],
   "source": []
  },
  {
   "cell_type": "markdown",
   "metadata": {},
   "source": [
    "## Final Model\n",
    "### I chosse the model D/ecision Tree>>> with max=1 "
   ]
  },
  {
   "cell_type": "code",
   "execution_count": 86,
   "metadata": {},
   "outputs": [],
   "source": [
    "from sklearn.externals import joblib\n",
    "# now you can save it to a file\n",
    "joblib.dump(drugTree, 'drugTree.pkl') \n",
    "# and later you can load it\n",
    "drugTree_model = joblib.load('drugTree.pkl')"
   ]
  },
  {
   "cell_type": "code",
   "execution_count": 87,
   "metadata": {},
   "outputs": [
    {
     "data": {
      "text/plain": [
       "DecisionTreeClassifier(class_weight=None, criterion='entropy', max_depth=1,\n",
       "            max_features=None, max_leaf_nodes=None,\n",
       "            min_impurity_decrease=0.0, min_impurity_split=None,\n",
       "            min_samples_leaf=1, min_samples_split=2,\n",
       "            min_weight_fraction_leaf=0.0, presort=False, random_state=None,\n",
       "            splitter='best')"
      ]
     },
     "execution_count": 87,
     "metadata": {},
     "output_type": "execute_result"
    }
   ],
   "source": [
    "drugTree_model"
   ]
  },
  {
   "cell_type": "code",
   "execution_count": 88,
   "metadata": {},
   "outputs": [
    {
     "name": "stdout",
     "output_type": "stream",
     "text": [
      "accuracy_train 0.85\n",
      "[[81 26]\n",
      " [ 4 89]]\n",
      "              precision    recall  f1-score   support\n",
      "\n",
      "           0       0.95      0.76      0.84       107\n",
      "           1       0.77      0.96      0.86        93\n",
      "\n",
      "   micro avg       0.85      0.85      0.85       200\n",
      "   macro avg       0.86      0.86      0.85       200\n",
      "weighted avg       0.87      0.85      0.85       200\n",
      "\n"
     ]
    }
   ],
   "source": [
    "per_model = drugTree_model.predict(X_val)\n",
    "print('accuracy_train',metrics.accuracy_score(y_val,per_model))\n",
    "print(confusion_matrix(y_val,per_model))\n",
    "print(classification_report(y_val,per_model))\n",
    "\n"
   ]
  },
  {
   "cell_type": "code",
   "execution_count": null,
   "metadata": {},
   "outputs": [],
   "source": []
  }
 ],
 "metadata": {
  "kernelspec": {
   "display_name": "Python 3",
   "language": "python",
   "name": "python3"
  },
  "language_info": {
   "codemirror_mode": {
    "name": "ipython",
    "version": 3
   },
   "file_extension": ".py",
   "mimetype": "text/x-python",
   "name": "python",
   "nbconvert_exporter": "python",
   "pygments_lexer": "ipython3",
   "version": "3.6.8"
  }
 },
 "nbformat": 4,
 "nbformat_minor": 2
}
