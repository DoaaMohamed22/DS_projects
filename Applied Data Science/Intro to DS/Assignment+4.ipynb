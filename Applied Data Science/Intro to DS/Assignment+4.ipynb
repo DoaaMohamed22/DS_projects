{
 "cells": [
  {
   "cell_type": "markdown",
   "metadata": {},
   "source": [
    "---\n",
    "\n",
    "_You are currently looking at **version 1.1** of this notebook. To download notebooks and datafiles, as well as get help on Jupyter notebooks in the Coursera platform, visit the [Jupyter Notebook FAQ](https://www.coursera.org/learn/python-data-analysis/resources/0dhYG) course resource._\n",
    "\n",
    "---"
   ]
  },
  {
   "cell_type": "code",
   "execution_count": 1,
   "metadata": {
    "collapsed": true
   },
   "outputs": [],
   "source": [
    "import pandas as pd\n",
    "import numpy as np\n",
    "from scipy.stats import ttest_ind"
   ]
  },
  {
   "cell_type": "markdown",
   "metadata": {},
   "source": [
    "# Assignment 4 - Hypothesis Testing\n",
    "This assignment requires more individual learning than previous assignments - you are encouraged to check out the [pandas documentation](http://pandas.pydata.org/pandas-docs/stable/) to find functions or methods you might not have used yet, or ask questions on [Stack Overflow](http://stackoverflow.com/) and tag them as pandas and python related. And of course, the discussion forums are open for interaction with your peers and the course staff.\n",
    "\n",
    "Definitions:\n",
    "* A _quarter_ is a specific three month period, Q1 is January through March, Q2 is April through June, Q3 is July through September, Q4 is October through December.\n",
    "* A _recession_ is defined as starting with two consecutive quarters of GDP decline, and ending with two consecutive quarters of GDP growth.\n",
    "* A _recession bottom_ is the quarter within a recession which had the lowest GDP.\n",
    "* A _university town_ is a city which has a high percentage of university students compared to the total population of the city.\n",
    "\n",
    "**Hypothesis**: University towns have their mean housing prices less effected by recessions. Run a t-test to compare the ratio of the mean price of houses in university towns the quarter before the recession starts compared to the recession bottom. (`price_ratio=quarter_before_recession/recession_bottom`)\n",
    "\n",
    "The following data files are available for this assignment:\n",
    "* From the [Zillow research data site](http://www.zillow.com/research/data/) there is housing data for the United States. In particular the datafile for [all homes at a city level](http://files.zillowstatic.com/research/public/City/City_Zhvi_AllHomes.csv), ```City_Zhvi_AllHomes.csv```, has median home sale prices at a fine grained level.\n",
    "* From the Wikipedia page on college towns is a list of [university towns in the United States](https://en.wikipedia.org/wiki/List_of_college_towns#College_towns_in_the_United_States) which has been copy and pasted into the file ```university_towns.txt```.\n",
    "* From Bureau of Economic Analysis, US Department of Commerce, the [GDP over time](http://www.bea.gov/national/index.htm#gdp) of the United States in current dollars (use the chained value in 2009 dollars), in quarterly intervals, in the file ```gdplev.xls```. For this assignment, only look at GDP data from the first quarter of 2000 onward.\n",
    "\n",
    "Each function in this assignment below is worth 10%, with the exception of ```run_ttest()```, which is worth 50%."
   ]
  },
  {
   "cell_type": "code",
   "execution_count": 2,
   "metadata": {
    "collapsed": true
   },
   "outputs": [],
   "source": [
    "# Use this dictionary to map state names to two letter acronyms\n",
    "states = {'OH': 'Ohio', 'KY': 'Kentucky', 'AS': 'American Samoa', 'NV': 'Nevada', 'WY': 'Wyoming', 'NA': 'National', 'AL': 'Alabama', 'MD': 'Maryland', 'AK': 'Alaska', 'UT': 'Utah', 'OR': 'Oregon', 'MT': 'Montana', 'IL': 'Illinois', 'TN': 'Tennessee', 'DC': 'District of Columbia', 'VT': 'Vermont', 'ID': 'Idaho', 'AR': 'Arkansas', 'ME': 'Maine', 'WA': 'Washington', 'HI': 'Hawaii', 'WI': 'Wisconsin', 'MI': 'Michigan', 'IN': 'Indiana', 'NJ': 'New Jersey', 'AZ': 'Arizona', 'GU': 'Guam', 'MS': 'Mississippi', 'PR': 'Puerto Rico', 'NC': 'North Carolina', 'TX': 'Texas', 'SD': 'South Dakota', 'MP': 'Northern Mariana Islands', 'IA': 'Iowa', 'MO': 'Missouri', 'CT': 'Connecticut', 'WV': 'West Virginia', 'SC': 'South Carolina', 'LA': 'Louisiana', 'KS': 'Kansas', 'NY': 'New York', 'NE': 'Nebraska', 'OK': 'Oklahoma', 'FL': 'Florida', 'CA': 'California', 'CO': 'Colorado', 'PA': 'Pennsylvania', 'DE': 'Delaware', 'NM': 'New Mexico', 'RI': 'Rhode Island', 'MN': 'Minnesota', 'VI': 'Virgin Islands', 'NH': 'New Hampshire', 'MA': 'Massachusetts', 'GA': 'Georgia', 'ND': 'North Dakota', 'VA': 'Virginia'}"
   ]
  },
  {
   "cell_type": "code",
   "execution_count": 3,
   "metadata": {},
   "outputs": [
    {
     "data": {
      "text/plain": [
       "dict_values(['Ohio', 'Kentucky', 'American Samoa', 'Nevada', 'Wyoming', 'National', 'Alabama', 'Maryland', 'Alaska', 'Utah', 'Oregon', 'Montana', 'Illinois', 'Tennessee', 'District of Columbia', 'Vermont', 'Idaho', 'Arkansas', 'Maine', 'Washington', 'Hawaii', 'Wisconsin', 'Michigan', 'Indiana', 'New Jersey', 'Arizona', 'Guam', 'Mississippi', 'Puerto Rico', 'North Carolina', 'Texas', 'South Dakota', 'Northern Mariana Islands', 'Iowa', 'Missouri', 'Connecticut', 'West Virginia', 'South Carolina', 'Louisiana', 'Kansas', 'New York', 'Nebraska', 'Oklahoma', 'Florida', 'California', 'Colorado', 'Pennsylvania', 'Delaware', 'New Mexico', 'Rhode Island', 'Minnesota', 'Virgin Islands', 'New Hampshire', 'Massachusetts', 'Georgia', 'North Dakota', 'Virginia'])"
      ]
     },
     "execution_count": 3,
     "metadata": {},
     "output_type": "execute_result"
    }
   ],
   "source": [
    "states.values()"
   ]
  },
  {
   "cell_type": "code",
   "execution_count": 4,
   "metadata": {},
   "outputs": [
    {
     "data": {
      "text/html": [
       "<div>\n",
       "<table border=\"1\" class=\"dataframe\">\n",
       "  <thead>\n",
       "    <tr style=\"text-align: right;\">\n",
       "      <th></th>\n",
       "      <th>State</th>\n",
       "    </tr>\n",
       "  </thead>\n",
       "  <tbody>\n",
       "    <tr>\n",
       "      <th>0</th>\n",
       "      <td>Ohio</td>\n",
       "    </tr>\n",
       "    <tr>\n",
       "      <th>1</th>\n",
       "      <td>Kentucky</td>\n",
       "    </tr>\n",
       "    <tr>\n",
       "      <th>2</th>\n",
       "      <td>American Samoa</td>\n",
       "    </tr>\n",
       "    <tr>\n",
       "      <th>3</th>\n",
       "      <td>Nevada</td>\n",
       "    </tr>\n",
       "    <tr>\n",
       "      <th>4</th>\n",
       "      <td>Wyoming</td>\n",
       "    </tr>\n",
       "  </tbody>\n",
       "</table>\n",
       "</div>"
      ],
      "text/plain": [
       "            State\n",
       "0            Ohio\n",
       "1        Kentucky\n",
       "2  American Samoa\n",
       "3          Nevada\n",
       "4         Wyoming"
      ]
     },
     "execution_count": 4,
     "metadata": {},
     "output_type": "execute_result"
    }
   ],
   "source": [
    "df=pd.DataFrame()\n",
    "df['State']= states.values()\n",
    "df.head()"
   ]
  },
  {
   "cell_type": "code",
   "execution_count": 5,
   "metadata": {},
   "outputs": [
    {
     "data": {
      "text/plain": [
       "pandas.core.frame.DataFrame"
      ]
     },
     "execution_count": 5,
     "metadata": {},
     "output_type": "execute_result"
    }
   ],
   "source": [
    "df.sort_values(by=['State'],ascending =True, inplace=True)\n",
    "type(df)"
   ]
  },
  {
   "cell_type": "code",
   "execution_count": 6,
   "metadata": {},
   "outputs": [
    {
     "data": {
      "text/html": [
       "<div>\n",
       "<table border=\"1\" class=\"dataframe\">\n",
       "  <thead>\n",
       "    <tr style=\"text-align: right;\">\n",
       "      <th></th>\n",
       "      <th>RegionName</th>\n",
       "      <th>State</th>\n",
       "    </tr>\n",
       "  </thead>\n",
       "  <tbody>\n",
       "    <tr>\n",
       "      <th>1</th>\n",
       "      <td>Auburn</td>\n",
       "      <td>Alabama</td>\n",
       "    </tr>\n",
       "    <tr>\n",
       "      <th>2</th>\n",
       "      <td>Florence</td>\n",
       "      <td>Alabama</td>\n",
       "    </tr>\n",
       "    <tr>\n",
       "      <th>3</th>\n",
       "      <td>Jacksonville</td>\n",
       "      <td>Alabama</td>\n",
       "    </tr>\n",
       "    <tr>\n",
       "      <th>4</th>\n",
       "      <td>Livingston</td>\n",
       "      <td>Alabama</td>\n",
       "    </tr>\n",
       "    <tr>\n",
       "      <th>5</th>\n",
       "      <td>Montevallo</td>\n",
       "      <td>Alabama</td>\n",
       "    </tr>\n",
       "  </tbody>\n",
       "</table>\n",
       "</div>"
      ],
      "text/plain": [
       "     RegionName    State\n",
       "1        Auburn  Alabama\n",
       "2      Florence  Alabama\n",
       "3  Jacksonville  Alabama\n",
       "4    Livingston  Alabama\n",
       "5    Montevallo  Alabama"
      ]
     },
     "execution_count": 6,
     "metadata": {},
     "output_type": "execute_result"
    }
   ],
   "source": [
    "uni=pd.read_table('university_towns.txt',sep='\\t',header=None,names=['RegionName'])\n",
    "# uni.sort_values(by=['RegionName'],ascending =True, inplace=True)\n",
    "uni['State']=uni[uni['RegionName'].str.contains('edit')]\n",
    "uni['State'].fillna(method='ffill',inplace=True)\n",
    "uni.drop(uni.loc[uni['State']== uni['RegionName']].index,inplace=True)\n",
    "uni['RegionName']=uni['RegionName'].str.split('(',expand=True)[0].str.split('[', expand=True)[0].str.rstrip()\n",
    "\n",
    "uni['State'] = uni['State'].str.replace(\"\\[.*?\\]\",'')\n",
    "\n",
    "\n",
    "uni.head()"
   ]
  },
  {
   "cell_type": "code",
   "execution_count": 7,
   "metadata": {},
   "outputs": [
    {
     "data": {
      "text/plain": [
       "489"
      ]
     },
     "execution_count": 7,
     "metadata": {},
     "output_type": "execute_result"
    }
   ],
   "source": [
    "uni_state=pd.merge(uni,df,how='inner',on='State')\n",
    "uni_state.sort_index(ascending =True, inplace=True)\n",
    "# uni_state['RegionName']=uni_state['RegionName'].str.replace(\"\\(.*?\\)\",'').str.replace(\"\\[.*?\\]\",'').str.rstrip()\n",
    "# uni_state['RegionName'].str.split('(',expand=True)[0].str.split('[', expand=True)[0].str.rstrip()\n",
    "# uni_state = uni_state.loc[uni.RegionName!=uni_state.State, ['State','RegionName']]\n",
    "\n",
    "# uni_state.head()\n",
    "# uni_state[uni_state['states']== uni_state['State']]\n",
    "len(uni_state['RegionName'].unique())\n"
   ]
  },
  {
   "cell_type": "code",
   "execution_count": 30,
   "metadata": {
    "collapsed": true,
    "umich_part_id": "021",
    "umich_partlist_id": "004"
   },
   "outputs": [],
   "source": [
    "# def get_list_of_university_towns0():\n",
    "# #     '''Returns a DataFrame of towns and the states they are in from the \n",
    "# #     university_towns.txt list. The format of the DataFrame should be:\n",
    "# #     DataFrame( [ [\"Michigan\", \"Ann Arbor\"], [\"Michigan\", \"Yipsilanti\"] ], \n",
    "# #     columns=[\"State\", \"RegionName\"]  )\n",
    "    \n",
    "# #     The following cleaning needs to be done:\n",
    "\n",
    "# #     1. For \"State\", removing characters from \"[\" to the end.\n",
    "# #     2. For \"RegionName\", when applicable, removing every character from \" (\" to the end.\n",
    "# #     3. Depending on how you read the data, you may need to remove newline character '\\n'. '''\n",
    "#     df2=pd.read_table('university_towns.txt',sep='\\t',header=None,names=['RegionName'])\n",
    "#     df2['State']=df2[df2['RegionName'].str.contains('edit')]\n",
    "#     df2['State'].fillna(method='ffill',inplace=True)\n",
    "# #     df2['check']=df2['State']== df2['RegionName']\n",
    "# #     df2.drop(df2.loc[df2['check']== True].index,inplace=True)\n",
    "# #     del df2['check']\n",
    "#     df2['State'] = df2['State'].str.replace(\"\\[.*?\\]\",'')\n",
    "#     df2['RegionName']=df2['RegionName'].str.replace(\"\\(.*?\\)\",'').str.replace(\"\\[.*?\\]\",'').str.rstrip()\n",
    "#     df2 = df2.loc[df2.RegionName!=df2.State, ['State','RegionName']]\n",
    "#     return len(df2['RegionName'].unique())\n",
    "# # len(df2['RegionName'].unique())\n",
    "# get_list_of_university_towns()"
   ]
  },
  {
   "cell_type": "code",
   "execution_count": 31,
   "metadata": {
    "collapsed": true
   },
   "outputs": [],
   "source": [
    "# def get_list_of_university_towns00():\n",
    "#     '''Returns a DataFrame of towns and the states they are in from the \n",
    "#     university_towns.txt list. The format of the DataFrame is:\n",
    "#     DataFrame( [ [\"Michigan\",\"Ann Arbor\"], [\"Michigan\", \"Yipsilanti\"] ], \n",
    "#     columns=[\"State\",\"RegionName\"]  )'''\n",
    "#     uni = pd.read_table('university_towns.txt', sep='\\t', header=None, names=['RegionName'])\n",
    "#     uni['State'] = [x.split('[')[0] if 'edit' in x else np.nan for x in uni['RegionName']]\n",
    "#     uni['State'].fillna(method='ffill', inplace=True)\n",
    "#     uni['RegionName'] = uni['RegionName'].str.split('(',expand=True)[0].str.split('[', expand=True)[0].str.rstrip()\n",
    "#     uni = uni.loc[uni.RegionName!=uni.State, ['State','RegionName']]\n",
    "#     return uni.head()\n",
    "# get_list_of_university_towns()"
   ]
  },
  {
   "cell_type": "code",
   "execution_count": 32,
   "metadata": {
    "collapsed": true
   },
   "outputs": [],
   "source": [
    "# df3=pd.read_excel('gdplev.xls',skiprows=6)\n",
    "# df3= df3.rename(columns={'Unnamed: 4':'Year','Unnamed: 6':'Gdp'})\n",
    "# GDP=df3[['Year','Gdp']].copy()\n",
    "# GDP.dropna(axis=0, how='all',inplace=True)\n",
    "# GDP.drop(GDP[0:212].index,inplace=True)\n",
    "    "
   ]
  },
  {
   "cell_type": "code",
   "execution_count": 33,
   "metadata": {
    "collapsed": true
   },
   "outputs": [],
   "source": [
    "# GDP[GDP['Year'].str.contains('2008','2009')]"
   ]
  },
  {
   "cell_type": "code",
   "execution_count": 34,
   "metadata": {
    "collapsed": true,
    "umich_part_id": "022",
    "umich_partlist_id": "004"
   },
   "outputs": [],
   "source": [
    "# # def get_recession_start():\n",
    "# # #     '''Returns the year and quarter of the recession start time as a \n",
    "# # #     string value in a format such as 2005q3'''\n",
    "# #     list_Gdp= GDP['Gdp'].tolist()\n",
    "# #     start_list=[]\n",
    "# #     for i in range(len(list_Gdp)-2):\n",
    "# #         if(GDP.iloc[i+1][1] < GDP.iloc[i][1]) and (GDP.iloc[i+2][1] < GDP.iloc[i+1][1]):\n",
    "# #             start_list.append(GDP.iloc[i][0])\n",
    "            \n",
    "# #     return start_list[1]\n",
    "# # get_recession_start()\n",
    "# def get_recession_start():\n",
    "# #     '''Returns the year and quarter of the recession start time as a \n",
    "# #     string value in a format such as 2005q3'''\n",
    "#     GDP['recession'] = GDP['Gdp'].diff(periods=1)\n",
    "#     GDP.reset_index(drop=True, inplace=True)\n",
    "#     GDP['start_recession']=False\n",
    "\n",
    "#     GDP.loc[GDP['recession']>0]\n",
    "#     for i in range(len(GDP)-2):\n",
    "#         if(GDP.loc[i,'recession']<0) and (GDP.loc[i+1,'recession']<0):\n",
    "#             GDP.loc[i,'start_recession']=True\n",
    "#     start = GDP.loc[GDP[GDP.start_recession==True].index.min(),'Year']\n",
    "#     return start\n",
    "# get_recession_start()"
   ]
  },
  {
   "cell_type": "code",
   "execution_count": 35,
   "metadata": {
    "collapsed": true,
    "umich_part_id": "023",
    "umich_partlist_id": "004"
   },
   "outputs": [],
   "source": [
    "# # def get_recession_end():\n",
    "# # #     '''Returns the year and quarter of the recession end time as a \n",
    "# # #     string value in a format such as 2005q3'''\n",
    "# #     GDP_copy=GDP.copy()\n",
    "# #     GDP_copy['Gdp']=GDP_copy['Gdp'].astype(float)\n",
    "# #     GDP_copy.drop(GDP_copy[0:35].index,inplace=True)\n",
    "    \n",
    "# #     list_Gdp= GDP_copy['Gdp'].tolist()\n",
    "# #     end_list=[]\n",
    "# #     for i in range(len(list_Gdp)-2):\n",
    "# #         if(GDP_copy.iloc[i][1] < GDP_copy.iloc[i+1][1]) and (GDP_copy.iloc[i+1][1] < GDP_copy.iloc[i+2][1]):\n",
    "# #             end_list.append(GDP_copy.iloc[i][0])       \n",
    "# #     return end_list[2]\n",
    "# # get_recession_end()\n",
    "# def get_recession_end():\n",
    "#     GDP_copy=GDP.copy()\n",
    "#     GDP_copy['Gdp']=GDP_copy['Gdp'].astype(float)\n",
    "#     GDP_copy.drop(GDP_copy[0:35].index,inplace=True)\n",
    "\n",
    "#     GDP_copy['recession'] = GDP_copy['Gdp'].diff(periods=1)\n",
    "#     GDP_copy.reset_index(drop=True, inplace=True)\n",
    "#     GDP_copy['end_recession']=False\n",
    "\n",
    "#     for i in range(len(GDP_copy)-2):\n",
    "#         if(GDP_copy.loc[i,'recession']>0) and (GDP_copy.loc[i+1,'recession']>0):\n",
    "#             GDP_copy.loc[i,'end_recession']=True\n",
    "#     end = GDP_copy.loc[GDP_copy[GDP_copy.end_recession==True].index[1],'Year']\n",
    "\n",
    "#     return end\n",
    "# get_recession_end()"
   ]
  },
  {
   "cell_type": "code",
   "execution_count": 36,
   "metadata": {
    "collapsed": true,
    "umich_part_id": "024",
    "umich_partlist_id": "004"
   },
   "outputs": [],
   "source": [
    "# def get_recession_bottom():\n",
    "#     '''Returns the year and quarter of the recession bottom time as a \n",
    "#     string value in a format such as 2005q3'''\n",
    "#     GDP['recession'] = GDP['Gdp'].diff(periods=1)\n",
    "#     GDP.reset_index(drop=True, inplace=True)\n",
    "#     GDP_copy0=GDP.copy()\n",
    "# #     GDP_copy0=GDP_copy0.set_index('Year')\n",
    "#     #start->2008q3\n",
    "#     #end->2009q4\n",
    "#     start=GDP_copy0[GDP_copy0['Year']=='2008q3'].index\n",
    "#     end=GDP_copy0[GDP_copy0['Year']=='2009q4'].index\n",
    "#     return GDP_copy0.loc[34:37].max()['Year']\n",
    "\n",
    "# get_recession_bottom()"
   ]
  },
  {
   "cell_type": "code",
   "execution_count": null,
   "metadata": {
    "collapsed": true
   },
   "outputs": [],
   "source": []
  },
  {
   "cell_type": "code",
   "execution_count": 15,
   "metadata": {
    "collapsed": true
   },
   "outputs": [],
   "source": [
    "# def get_recession_bottom():\n",
    "#     '''Returns the year and quarter of the recession bottom time as a \n",
    "#     string value in a format such as 2005q3'''\n",
    "#     import pandas as pd\n",
    "#     gdp_usa = pd.read_excel('gdplev.xls', skiprows=5, usecols=[4,6], names=[\n",
    "#                 'Year&Quarter','GDP_chained_2009_dollars'])\n",
    "#     gdp_usa.dropna(axis=0, how='all', inplace=True)\n",
    "#     gdp_usa['year'] = [int(x[0:4]) for x in gdp_usa['Year&Quarter']]\n",
    "#     gdp_usa['quarter'] = [x[4:] for x in gdp_usa['Year&Quarter']]\n",
    "#     gdp_usa = gdp_usa[gdp_usa['year']>=2000]\n",
    "#     gdp_usa['recession'] = gdp_usa['GDP_chained_2009_dollars'].diff(periods=1)\n",
    "#     gdp_usa.reset_index(drop=True, inplace=True)\n",
    "#     gdp_usa['recessionStart'] = False\n",
    "#     gdp_usa['recessionEnd'] = False\n",
    "#     for i in range(1,len(gdp_usa)-1):\n",
    "#         if (gdp_usa.loc[i,'recession']<0)&(gdp_usa.loc[i+1,'recession']<0):\n",
    "#             gdp_usa.loc[i,'recessionStart'] = True\n",
    "#     for i in range(3,len(gdp_usa)):\n",
    "#         if ((gdp_usa.loc[i-3,'recession']<0)&(gdp_usa.loc[i-2,'recession']<0)&\n",
    "#             (gdp_usa.loc[i-1,'recession']>0)&(gdp_usa.loc[i,'recession']>0)):\n",
    "#             gdp_usa.loc[i,'recessionEnd'] = True  \n",
    "#     recessionStart = gdp_usa[gdp_usa['recessionStart']==True].index.min()\n",
    "#     recessionEnd = gdp_usa[gdp_usa['recessionEnd']==True].index.min()\n",
    "#     df_rec = gdp_usa.ix[recessionStart:recessionEnd,:]\n",
    "#     ans = df_rec.loc[df_rec['GDP_chained_2009_dollars']==df_rec['GDP_chained_2009_dollars'].min(),'Year&Quarter'] \n",
    "#     return df_rec\n",
    "# get_recession_bottom()"
   ]
  },
  {
   "cell_type": "code",
   "execution_count": 37,
   "metadata": {
    "collapsed": true,
    "umich_part_id": "025",
    "umich_partlist_id": "004"
   },
   "outputs": [],
   "source": [
    "# def convert_housing_data_to_quarters00():\n",
    "#     '''Converts the housing data to quarters and returns it as mean \n",
    "#     values in a dataframe. This dataframe should be a dataframe with\n",
    "#     columns for 2000q1 through 2016q3, and should have a multi-index\n",
    "#     in the shape of [\"State\",\"RegionName\"].\n",
    "    \n",
    "#     Note: Quarters are defined in the assignment description, they are\n",
    "#     not arbitrary three month periods.\n",
    "    \n",
    "#     The resulting dataframe should have 67 columns, and 10,730 rows.\n",
    "#     '''\n",
    "#     house=pd.read_csv('City_Zhvi_AllHomes.csv')\n",
    "#     col_lst=house.loc[:,'1996-04':'1999-12']\n",
    "\n",
    "#     house.drop(col_lst,axis=1,inplace=True)\n",
    "\n",
    "#     house.columns = (house.columns.str.replace('-01', 'q1').str.replace('-02', 'q1')\n",
    "#                          .str.replace('-03', 'q1').str.replace('-04', 'q2').str.replace('-05', 'q2')\n",
    "#                          .str.replace('-06', 'q2').str.replace('-07', 'q3').str.replace('-08', 'q3')\n",
    "#                          .str.replace('-09', 'q3').str.replace('-10', 'q4').str.replace('-11', 'q4')\n",
    "#                          .str.replace('-12', 'q4'))\n",
    "#     house=house.set_index(['State','RegionName'])\n",
    "#     col_lst2=house.loc[:,'RegionID':'SizeRank']\n",
    "#     house.drop(col_lst2,axis=1,inplace=True)\n",
    "#     house = house.groupby(house.columns, axis=1).mean()\n",
    "\n",
    "\n",
    "#     return house\n"
   ]
  },
  {
   "cell_type": "code",
   "execution_count": 38,
   "metadata": {
    "collapsed": true
   },
   "outputs": [],
   "source": [
    "# def convert_housing_data_to_quarters():\n",
    "#     '''Converts the housing data to quarters and returns it as mean \n",
    "#     values in a dataframe. The resulting dataframe should have 67 \n",
    "#     columns, and 10,730 rows.\n",
    "#     '''\n",
    "#     all_homes = pd.read_csv('City_Zhvi_AllHomes.csv')\n",
    "#     all_homes['State'] = all_homes['State'].map(states)\n",
    "#     all_homes.drop(all_homes.filter(regex='19').columns, axis=1, inplace=True)\n",
    "#     all_homes.columns = (all_homes.columns.str.replace('-01', 'q1').str.replace('-02', 'q1')\n",
    "#                          .str.replace('-03', 'q1').str.replace('-04', 'q2').str.replace('-05', 'q2')\n",
    "#                          .str.replace('-06', 'q2').str.replace('-07', 'q3').str.replace('-08', 'q3')\n",
    "#                          .str.replace('-09', 'q3').str.replace('-10', 'q4').str.replace('-11', 'q4')\n",
    "#                          .str.replace('-12', 'q4'))\n",
    "#     all_homes = (all_homes.set_index(['State','RegionName'], drop=True)\n",
    "#                .drop(['RegionID','Metro','CountyName','SizeRank'],axis=1))          \n",
    "#     all_homes = all_homes.groupby(by=all_homes.columns, axis=1).mean() \n",
    "    \n",
    "#     return all_homes\n"
   ]
  },
  {
   "cell_type": "code",
   "execution_count": 47,
   "metadata": {
    "collapsed": true
   },
   "outputs": [],
   "source": [
    "def get_list_of_university_towns():\n",
    "    '''Returns a DataFrame of towns and the states they are in from the \n",
    "    university_towns.txt list. The format of the DataFrame is:\n",
    "    DataFrame( [ [\"Michigan\",\"Ann Arbor\"], [\"Michigan\", \"Yipsilanti\"] ], \n",
    "    columns=[\"State\",\"RegionName\"]  )'''\n",
    "    uni = pd.read_table('university_towns.txt', sep='\\t', header=None, names=['RegionName'])\n",
    "    uni['State'] = [x.split('[')[0] if 'edit' in x else np.nan for x in uni['RegionName']]\n",
    "    uni['State'].fillna(method='ffill', inplace=True)\n",
    "    uni['RegionName'] = uni['RegionName'].str.split('(',expand=True)[0].str.split('[', expand=True)[0].str.rstrip()\n",
    "    uni = uni.loc[uni.RegionName!=uni.State, ['State','RegionName']]\n",
    "    return uni\n"
   ]
  },
  {
   "cell_type": "code",
   "execution_count": 48,
   "metadata": {
    "collapsed": true
   },
   "outputs": [],
   "source": [
    "def get_recession_start():\n",
    "    '''Returns the year and quarter of the recession start time as a \n",
    "    string value in a format such as 2005q3'''\n",
    "    gdp_usa = pd.read_excel('gdplev.xls', skiprows=5, usecols=[4,6], \n",
    "                            names=['Year&Quarter', 'GDP_chained_2009_dollars'])\n",
    "    gdp_usa.dropna(axis=0, how='all', inplace=True)\n",
    "    gdp_usa['year'] = [int(x[0:4]) for x in gdp_usa['Year&Quarter']]\n",
    "    gdp_usa['quarter'] = [x[4:] for x in gdp_usa['Year&Quarter']]\n",
    "    gdp_usa = gdp_usa[gdp_usa['year']>=2000]\n",
    "    gdp_usa['recession'] = gdp_usa['GDP_chained_2009_dollars'].diff(periods=1)\n",
    "    gdp_usa.reset_index(drop=True, inplace=True)\n",
    "    gdp_usa['recessionStart'] = False\n",
    "    for i in range(1,len(gdp_usa)-1):\n",
    "        if (gdp_usa.loc[i,'recession']<0)&(gdp_usa.loc[i+1,'recession']<0):\n",
    "            gdp_usa.loc[i,'recessionStart'] = True\n",
    "    ans = gdp_usa.loc[gdp_usa[gdp_usa.recessionStart==True].index.min(),'Year&Quarter']\n",
    "    return ans"
   ]
  },
  {
   "cell_type": "code",
   "execution_count": 49,
   "metadata": {
    "collapsed": true
   },
   "outputs": [],
   "source": [
    "\n",
    "def get_recession_bottom():\n",
    "    '''Returns the year and quarter of the recession bottom time as a \n",
    "    string value in a format such as 2005q3'''\n",
    "    import pandas as pd\n",
    "    gdp_usa = pd.read_excel('gdplev.xls', skiprows=5, usecols=[4,6], names=[\n",
    "                'Year&Quarter','GDP_chained_2009_dollars'])\n",
    "    gdp_usa.dropna(axis=0, how='all', inplace=True)\n",
    "    gdp_usa['year'] = [int(x[0:4]) for x in gdp_usa['Year&Quarter']]\n",
    "    gdp_usa['quarter'] = [x[4:] for x in gdp_usa['Year&Quarter']]\n",
    "    gdp_usa = gdp_usa[gdp_usa['year']>=2000]\n",
    "    gdp_usa['recession'] = gdp_usa['GDP_chained_2009_dollars'].diff(periods=1)\n",
    "    gdp_usa.reset_index(drop=True, inplace=True)\n",
    "    gdp_usa['recessionStart'] = False\n",
    "    gdp_usa['recessionEnd'] = False\n",
    "    for i in range(1,len(gdp_usa)-1):\n",
    "        if (gdp_usa.loc[i,'recession']<0)&(gdp_usa.loc[i+1,'recession']<0):\n",
    "            gdp_usa.loc[i,'recessionStart'] = True\n",
    "    for i in range(3,len(gdp_usa)):\n",
    "        if ((gdp_usa.loc[i-3,'recession']<0)&(gdp_usa.loc[i-2,'recession']<0)&\n",
    "            (gdp_usa.loc[i-1,'recession']>0)&(gdp_usa.loc[i,'recession']>0)):\n",
    "            gdp_usa.loc[i,'recessionEnd'] = True  \n",
    "    recessionStart = gdp_usa[gdp_usa['recessionStart']==True].index.min()\n",
    "    recessionEnd = gdp_usa[gdp_usa['recessionEnd']==True].index.min()\n",
    "    df_rec = gdp_usa.ix[recessionStart:recessionEnd,:]\n",
    "    ans = df_rec.loc[df_rec['GDP_chained_2009_dollars']==df_rec['GDP_chained_2009_dollars'].min(),'Year&Quarter'] \n",
    "    return ans.values[0]\n"
   ]
  },
  {
   "cell_type": "code",
   "execution_count": 53,
   "metadata": {
    "collapsed": true
   },
   "outputs": [],
   "source": [
    "def convert_housing_data_to_quarters():\n",
    "    '''Converts the housing data to quarters and returns it as mean \n",
    "    values in a dataframe. The resulting dataframe should have 67 \n",
    "    columns, and 10,730 rows.\n",
    "    '''\n",
    "    df = pd.read_csv('City_Zhvi_AllHomes.csv')\n",
    "    df = df.drop(df.columns[[0] + list(range(3,51))], axis=1)\n",
    "#     df2 = df.set_index(['State', 'RegionName'])\n",
    "    df2 = pd.DataFrame(df[['State', 'RegionName']])\n",
    "#     print(df2)\n",
    "    for year in range(2000, 2016):\n",
    "        df2[str(year) + 'q1'] = df[[str(year) + '-01', str(year) + '-02', str(year) + '-03']].mean(axis = 1)\n",
    "        df2[str(year) + 'q2'] = df[[str(year) + '-04', str(year) + '-05', str(year) + '-06']].mean(axis = 1)\n",
    "        df2[str(year) + 'q3'] = df[[str(year) + '-07', str(year) + '-08', str(year) + '-09']].mean(axis = 1)\n",
    "        df2[str(year) + 'q4'] = df[[str(year) + '-10', str(year) + '-11', str(year) + '-12']].mean(axis = 1)\n",
    "    year = 2016\n",
    "    df2[str(year) + 'q1'] = df[[str(year) + '-01', str(year) + '-02', str(year) + '-03']].mean(axis = 1)\n",
    "    df2[str(year) + 'q2'] = df[[str(year) + '-04', str(year) + '-05', str(year) + '-06']].mean(axis = 1)\n",
    "    df2[str(year) + 'q3'] = df[[str(year) + '-07', str(year) + '-08']].mean(axis = 1)\n",
    "#     df2 = df2.set_index(['State', 'RegionName'])\n",
    "    df2['State'] = [states[state] for state in df2['State']]\n",
    "    df2 = df2.set_index(['State', 'RegionName'])\n",
    "    ans = pd.DataFrame(df2)\n",
    "    \n",
    "#     print(ans)\n",
    "    return ans\n"
   ]
  },
  {
   "cell_type": "code",
   "execution_count": 55,
   "metadata": {
    "umich_part_id": "026",
    "umich_partlist_id": "004"
   },
   "outputs": [
    {
     "data": {
      "text/plain": [
       "(True, 0.002099659657952052, 'university town')"
      ]
     },
     "execution_count": 55,
     "metadata": {},
     "output_type": "execute_result"
    }
   ],
   "source": [
    "def run_ttest():\n",
    "    '''First creates new data showing the decline or growth of housing prices\n",
    "    between the recession start and the recession bottom. Then runs a ttest\n",
    "    comparing the university town values to the non-university towns values, \n",
    "    return whether the alternative hypothesis (that the two groups are the same)\n",
    "    is true or not as well as the p-value of the confidence. \n",
    "    \n",
    "    Return the tuple (different, p, better) where different=True if the t-test is\n",
    "    True at a p<0.01 (we reject the null hypothesis), or different=False if \n",
    "    otherwise (we cannot reject the null hypothesis). The variable p should\n",
    "    be equal to the exact p value returned from scipy.stats.ttest_ind(). The\n",
    "    value for better should be either \"university town\" or \"non-university town\"\n",
    "    depending on which has a lower mean price ratio (which is equivilent to a\n",
    "    reduced market loss).'''\n",
    "    \n",
    "    #recession\n",
    "    unitowns = get_list_of_university_towns()\n",
    "    bottom = get_recession_bottom()\n",
    "    start = get_recession_start()\n",
    "    hdata = convert_housing_data_to_quarters()\n",
    "    bstart = hdata.columns[hdata.columns.get_loc(start) - 1]\n",
    "    \n",
    "    hdata['ratio'] =  hdata[bstart] - hdata[bottom]\n",
    "    hdata = hdata[[bottom, bstart, 'ratio']]\n",
    "    hdata = hdata.reset_index()\n",
    "    \n",
    "    unitowns_hdata = pd.merge(hdata,unitowns,how='inner',on=['State','RegionName'])\n",
    "    unitowns_hdata['uni'] = True\n",
    "    hdata2 = pd.merge(hdata, unitowns_hdata, how='outer', on=['State','RegionName',bottom, bstart, 'ratio'])\n",
    "    hdata2['uni'] = hdata2['uni'].fillna(False)\n",
    "    \n",
    "    ut = hdata2[hdata2['uni'] == True]\n",
    "    nut = hdata2[hdata2['uni'] == False]\n",
    "    \n",
    "    t,p = ttest_ind(ut['ratio'].dropna(), nut['ratio'].dropna())\n",
    "    \n",
    "    different = True if p<0.01 else False\n",
    "    better = \"university town\" if ut['ratio'].mean() < nut['ratio'].mean() else \"non-university town\"\n",
    "    \n",
    "    return(different, p, better)\n",
    "\n",
    "run_ttest()\n",
    "\n"
   ]
  },
  {
   "cell_type": "code",
   "execution_count": null,
   "metadata": {
    "collapsed": true
   },
   "outputs": [],
   "source": []
  }
 ],
 "metadata": {
  "coursera": {
   "course_slug": "python-data-analysis",
   "graded_item_id": "Il9Fx",
   "launcher_item_id": "TeDW0",
   "part_id": "WGlun"
  },
  "kernelspec": {
   "display_name": "Python 3",
   "language": "python",
   "name": "python3"
  },
  "language_info": {
   "codemirror_mode": {
    "name": "ipython",
    "version": 3
   },
   "file_extension": ".py",
   "mimetype": "text/x-python",
   "name": "python",
   "nbconvert_exporter": "python",
   "pygments_lexer": "ipython3",
   "version": "3.6.2"
  },
  "umich": {
   "id": "Assignment 4",
   "version": "1.1"
  }
 },
 "nbformat": 4,
 "nbformat_minor": 1
}
